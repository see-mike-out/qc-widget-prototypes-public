{
 "cells": [
  {
   "cell_type": "markdown",
   "id": "8b613dca-c83d-4b18-a86a-83a596fe6e1f",
   "metadata": {},
   "source": [
    "# Interactive Machine Viewer Demo\n",
    "\n",
    "Note: the demo will not appear if you are looking at this on github because the widgets are dynamically created.\n",
    "\n",
    "## Imports and setup"
   ]
  },
  {
   "cell_type": "code",
   "execution_count": 1,
   "id": "d74c65ca-5fcc-4b80-bc7d-911e8d855dc1",
   "metadata": {},
   "outputs": [],
   "source": [
    "# qiskit circuit & machine\n",
    "from qiskit import QuantumCircuit\n",
    "from qiskit.transpiler.preset_passmanagers import generate_preset_pass_manager\n",
    "import qiskit_aer\n",
    "import qiskit_ibm_runtime\n",
    "from qiskit_ibm_runtime import QiskitRuntimeService\n",
    "from qiskit_ibm_runtime.fake_provider import FakeVigo\n",
    "import os\n",
    "\n",
    "# widget-related\n",
    "import anywidget\n",
    "import traitlets\n",
    "\n",
    "# widget function\n",
    "from machine_data_prep import getMachineInformation\n",
    "\n",
    "# host setting for dev mode\n",
    "_SS_ = \"http://localhost:5175/\"\n",
    "\n",
    "class MachineViewer(anywidget.AnyWidget):\n",
    "    _esm = _SS_ + \"index.js?anywidget\"\n",
    "    machine_data = traitlets.Unicode().tag(sync=True)\n",
    "    code = traitlets.Unicode().tag(sync=True)\n",
    "    mode = traitlets.Unicode(\"machine\").tag(sync=True)\n",
    "\n",
    "def getMachineViewer(backend):\n",
    "    machine_info = getMachineInformation(backend)\n",
    "    machine_data = machine_info.toJSON()\n",
    "    code = \"\"\n",
    "    return MachineViewer(machine_data=machine_data, code=code)"
   ]
  },
  {
   "cell_type": "markdown",
   "id": "d9b0ce81-c35c-46be-a375-1c9ce5db7afd",
   "metadata": {},
   "source": [
    "## Load a backend"
   ]
  },
  {
   "cell_type": "code",
   "execution_count": 2,
   "id": "307c60af-a3a4-4b9c-b9b2-460b2238074c",
   "metadata": {},
   "outputs": [],
   "source": [
    "token = os.environ[\"ibm_token\"]\n",
    "QiskitRuntimeService.save_account(channel=\"ibm_quantum\", token=token, overwrite=True)\n",
    "service = QiskitRuntimeService(channel=\"ibm_quantum\")\n",
    "\n",
    "avail_backends = service.backends()\n",
    "back1 = avail_backends[0]"
   ]
  },
  {
   "cell_type": "markdown",
   "id": "9a3650a9-a06e-41a7-bf10-922b2a80ab2f",
   "metadata": {},
   "source": [
    "## Load the machine viewer"
   ]
  },
  {
   "cell_type": "code",
   "execution_count": 3,
   "id": "40170703-984e-453f-8b4f-209e94171c14",
   "metadata": {},
   "outputs": [
    {
     "data": {
      "application/vnd.jupyter.widget-view+json": {
       "model_id": "b8d40394984f4b6fbd98a9c7102f13e1",
       "version_major": 2,
       "version_minor": 1
      },
      "text/plain": [
       "MachineViewer(machine_data='{\"asof\": \"07/22/2024, 16:39:19\", \"name\": \"ibm_brisbane\", \"description\": null, \"bac…"
      ]
     },
     "execution_count": 3,
     "metadata": {},
     "output_type": "execute_result"
    }
   ],
   "source": [
    "viewer = getMachineViewer(back1)\n",
    "viewer"
   ]
  },
  {
   "cell_type": "markdown",
   "id": "da4ef534-9793-47f5-a7ac-7d604c28917a",
   "metadata": {},
   "source": [
    "## Get the reusable code"
   ]
  },
  {
   "cell_type": "code",
   "execution_count": 4,
   "id": "898ac808-bfc1-4e27-8e2b-8b411f920f76",
   "metadata": {},
   "outputs": [
    {
     "name": "stdout",
     "output_type": "stream",
     "text": [
      "def get_data(backend):\n",
      "    max_circuits = backend.max_circuits\n",
      "    memory_slot_size = backend.options.memory_slot_size\n",
      "    jq_6272_0 = list(fliter(lambda x: x.name == \"jq_6272\", backend.properties().general))[0]\n",
      "    circuit_T1_10 = backend.properties().t1(10)\n",
      "\n",
      "    output = {\n",
      "        \"max_circuits\": max_circuits,\n",
      "        \"memory_slot_size\": memory_slot_size,\n",
      "        \"jq_6272_0\": jq_6272_0,\n",
      "        \"circuit_T1_10\": circuit_T1_10,\n",
      "    }\n",
      "    return output\n"
     ]
    }
   ],
   "source": [
    "print(viewer.code)"
   ]
  }
 ],
 "metadata": {
  "kernelspec": {
   "display_name": "Python 3 (ipykernel)",
   "language": "python",
   "name": "python3"
  },
  "language_info": {
   "codemirror_mode": {
    "name": "ipython",
    "version": 3
   },
   "file_extension": ".py",
   "mimetype": "text/x-python",
   "name": "python",
   "nbconvert_exporter": "python",
   "pygments_lexer": "ipython3",
   "version": "3.12.3"
  }
 },
 "nbformat": 4,
 "nbformat_minor": 5
}
