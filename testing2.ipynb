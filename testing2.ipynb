{
 "cells": [
  {
   "cell_type": "code",
   "execution_count": 1,
   "id": "7d2abdc4-1564-4c5d-8d5e-b15ac04cdf13",
   "metadata": {},
   "outputs": [],
   "source": [
    "from qiskit import QuantumCircuit\n",
    "from qiskit.quantum_info import SparsePauliOp\n",
    "from qiskit.transpiler.preset_passmanagers import generate_preset_pass_manager\n",
    "from qiskit_ibm_runtime import EstimatorV2 as Estimator\n",
    "import qiskit_aer\n",
    "from qiskit.visualization import plot_histogram\n",
    "from qiskit_ibm_runtime.fake_provider import FakeVigo\n",
    "from qiskit import transpile\n",
    "\n",
    "from qiskit_draw_utils import getCircuitLayout\n",
    "from match_circuit import matchCircuitLayouts\n",
    "\n",
    "from circuit_data_prep import prepareData"
   ]
  },
  {
   "cell_type": "code",
   "execution_count": 2,
   "id": "6c38dc85-06a9-43ab-9665-49ed8df4ad52",
   "metadata": {},
   "outputs": [
    {
     "name": "stdout",
     "output_type": "stream",
     "text": [
      ">>>\n",
      "{'matches': [(0, 0), (1, 0), (2, 0), (3, 0), (4, 0), (5, 0), (6, 0), (7, 0), (8, 0), (8, 1), (9, 0), (10, 0), (11, 0), (12, 0), (16, 0)], 'complete': False, 'un_matches': 6}\n",
      "---\n",
      ">>>\n",
      "{'matches': [(0, 1)], 'complete': True, 'un_matches': 0}\n",
      "---\n",
      ">>>\n",
      "{'matches': [(19, 0)], 'complete': True, 'un_matches': 0}\n",
      "---\n",
      ">>>\n",
      "{'matches': [(20, 0)], 'complete': True, 'un_matches': 0}\n",
      "---\n",
      ">>>\n",
      "{'matches': [(16, 1)], 'complete': True, 'un_matches': 0}\n",
      "---\n",
      "CircuitInstruction(operation=Instruction(name='measure', num_qubits=1, num_clbits=1, params=[]), qubits=(Qubit(QuantumRegister(4, 'q'), 1),), clbits=(Clbit(ClassicalRegister(4, 'c'), 1),))\n",
      "CircuitInstruction(operation=Instruction(name='rz', num_qubits=1, num_clbits=0, params=[1.5707963267948966]), qubits=(Qubit(QuantumRegister(5, 'q'), 1),), clbits=())\n",
      ">>>\n",
      "{'matches': [(17, 1), (18, 0), (18, 0)], 'complete': False, 'un_matches': 18}\n",
      "---\n",
      ">>>\n",
      "{'matches': [(0, 1)], 'complete': True, 'un_matches': 0}\n",
      "---\n",
      ">>>\n",
      "{'matches': [(19, 0)], 'complete': True, 'un_matches': 0}\n",
      "---\n",
      ">>>\n",
      "{'matches': [(20, 0)], 'complete': True, 'un_matches': 0}\n",
      "---\n",
      ">>>\n",
      "{'matches': [(16, 1)], 'complete': True, 'un_matches': 0}\n",
      "---\n",
      ">>>\n",
      "{'matches': [(17, 1), (18, 0)], 'complete': False, 'un_matches': 19}\n",
      "---\n",
      ">>>\n",
      "{'matches': [(0, 1)], 'complete': True, 'un_matches': 0}\n",
      "---\n",
      ">>>\n",
      "{'matches': [(19, 0)], 'complete': True, 'un_matches': 0}\n",
      "---\n",
      ">>>\n",
      "{'matches': [(20, 0)], 'complete': True, 'un_matches': 0}\n",
      "---\n",
      ">>>\n",
      "{'matches': [(16, 1)], 'complete': True, 'un_matches': 0}\n",
      "---\n",
      ">>>\n",
      "{'matches': [(0, 0), (2, 0), (3, 0), (4, 0), (5, 0), (6, 0), (7, 0), (8, 0), (9, 0), (9, 1), (10, 0), (11, 0), (12, 0), (13, 0), (14, 0), (15, 0), (16, 0), (17, 0), (18, 0), (18, 1), (19, 0)], 'complete': True, 'un_matches': 0}\n",
      "---\n",
      ">>>\n",
      "{'matches': [(1, 0)], 'complete': True, 'un_matches': 0}\n",
      "---\n",
      ">>>\n",
      "{'matches': [(20, 0)], 'complete': True, 'un_matches': 0}\n",
      "---\n",
      ">>>\n",
      "{'matches': [(21, 0)], 'complete': True, 'un_matches': 0}\n",
      "---\n",
      ">>>\n",
      "{'matches': [(17, 1)], 'complete': True, 'un_matches': 0}\n",
      "---\n",
      "CircuitInstruction(operation=Instruction(name='measure', num_qubits=1, num_clbits=1, params=[]), qubits=(Qubit(QuantumRegister(4, 'q'), 1),), clbits=(Clbit(ClassicalRegister(4, 'c'), 1),))\n",
      "CircuitInstruction(operation=Instruction(name='rz', num_qubits=1, num_clbits=0, params=[1.5707963267948966]), qubits=(Qubit(QuantumRegister(5, 'q'), 1),), clbits=())\n"
     ]
    }
   ],
   "source": [
    "qc_a = QuantumCircuit(4, 4)\n",
    "qc_a.ccx(0, 1, 3)\n",
    "# qc_a.iswap(0, 1)\n",
    "qc_a.measure([0, 1, 2, 3], [0, 1, 2, 3])\n",
    "\n",
    "optimization_level = 1\n",
    "backend = qiskit_aer.AerSimulator.from_backend(FakeVigo())\n",
    "pm2 = generate_preset_pass_manager(backend=backend, optimization_level=optimization_level)\n",
    "\n",
    "prep = prepareData(qc_a, pm2, backend)\n",
    "\n",
    "qca_trans = pm2.run(qc_a)\n",
    "\n",
    "# layer_orig = getCircuitLayout(qc_a)\n",
    "# layer_trans = getCircuitLayout(qca_trans)\n",
    "\n",
    "# matchCircuitLayouts(layer_orig, layer_trans, pass_manager=pm2)"
   ]
  },
  {
   "cell_type": "code",
   "execution_count": 4,
   "id": "be37a85b-ae2c-49d1-a2da-c2aa6a164344",
   "metadata": {},
   "outputs": [
    {
     "data": {
      "text/html": [
       "<pre style=\"word-wrap: normal;white-space: pre;background: #fff0;line-height: 1.1;font-family: &quot;Courier New&quot;,Courier,monospace\">global phase: 5π/8\n",
       "                                                                            »\n",
       "ancilla_0 -> 0 ─────────────────────────────────────────────────────────────»\n",
       "               ┌─────────┐┌────┐┌─────────┐┌───┐┌──────────┐┌───┐┌─────────┐»\n",
       "      q_3 -> 1 ┤ Rz(π/2) ├┤ √X ├┤ Rz(π/2) ├┤ X ├┤ Rz(-π/4) ├┤ X ├┤ Rz(π/4) ├»\n",
       "               └─────────┘└────┘└─────────┘└─┬─┘└──────────┘└─┬─┘└─────────┘»\n",
       "      q_1 -> 2 ──────────────────────────────■────────────────┼─────────────»\n",
       "                                                              │             »\n",
       "      q_0 -> 3 ───────────────────────────────────────────────■─────────────»\n",
       "                   ┌─┐                                                      »\n",
       "      q_2 -> 4 ────┤M├──────────────────────────────────────────────────────»\n",
       "                   └╥┘                                                      »\n",
       "          c: 4/═════╩═══════════════════════════════════════════════════════»\n",
       "                    2                                                       »\n",
       "«                                                                            »\n",
       "«ancilla_0 -> 0 ─────────────────────────────────────────────────────────────»\n",
       "«               ┌───┐┌──────────┐┌───┐┌──────────┐┌────┐┌─────────┐┌───┐     »\n",
       "«      q_3 -> 1 ┤ X ├┤ Rz(-π/4) ├┤ X ├┤ Rz(3π/4) ├┤ √X ├┤ Rz(π/2) ├┤ X ├──■──»\n",
       "«               └─┬─┘├─────────┬┘└─┬─┘└──────────┘└────┘└─────────┘└─┬─┘  │  »\n",
       "«      q_1 -> 2 ──■──┤ Rz(π/4) ├───┼─────────────────────────────────┼────┼──»\n",
       "«                    └─────────┘   │                                 │  ┌─┴─┐»\n",
       "«      q_0 -> 3 ───────────────────■─────────────────────────────────■──┤ X ├»\n",
       "«                                                                       └───┘»\n",
       "«      q_2 -> 4 ─────────────────────────────────────────────────────────────»\n",
       "«                                                                            »\n",
       "«          c: 4/═════════════════════════════════════════════════════════════»\n",
       "«                                                                            »\n",
       "«                                                \n",
       "«ancilla_0 -> 0 ─────────────────────────────────\n",
       "«               ┌───┐     ┌─────────┐      ┌─┐   \n",
       "«      q_3 -> 1 ┤ X ├──■──┤ Rz(π/4) ├───■──┤M├───\n",
       "«               └─┬─┘┌─┴─┐├─────────┴┐┌─┴─┐└╥┘┌─┐\n",
       "«      q_1 -> 2 ──┼──┤ X ├┤ Rz(-π/4) ├┤ X ├─╫─┤M├\n",
       "«                 │  └┬─┬┘└──────────┘└───┘ ║ └╥┘\n",
       "«      q_0 -> 3 ──■───┤M├───────────────────╫──╫─\n",
       "«                     └╥┘                   ║  ║ \n",
       "«      q_2 -> 4 ───────╫────────────────────╫──╫─\n",
       "«                      ║                    ║  ║ \n",
       "«          c: 4/═══════╩════════════════════╩══╩═\n",
       "«                      3                    0  1 </pre>"
      ],
      "text/plain": [
       "global phase: 5π/8\n",
       "                                                                            »\n",
       "ancilla_0 -> 0 ─────────────────────────────────────────────────────────────»\n",
       "               ┌─────────┐┌────┐┌─────────┐┌───┐┌──────────┐┌───┐┌─────────┐»\n",
       "      q_3 -> 1 ┤ Rz(π/2) ├┤ √X ├┤ Rz(π/2) ├┤ X ├┤ Rz(-π/4) ├┤ X ├┤ Rz(π/4) ├»\n",
       "               └─────────┘└────┘└─────────┘└─┬─┘└──────────┘└─┬─┘└─────────┘»\n",
       "      q_1 -> 2 ──────────────────────────────■────────────────┼─────────────»\n",
       "                                                              │             »\n",
       "      q_0 -> 3 ───────────────────────────────────────────────■─────────────»\n",
       "                   ┌─┐                                                      »\n",
       "      q_2 -> 4 ────┤M├──────────────────────────────────────────────────────»\n",
       "                   └╥┘                                                      »\n",
       "          c: 4/═════╩═══════════════════════════════════════════════════════»\n",
       "                    2                                                       »\n",
       "«                                                                            »\n",
       "«ancilla_0 -> 0 ─────────────────────────────────────────────────────────────»\n",
       "«               ┌───┐┌──────────┐┌───┐┌──────────┐┌────┐┌─────────┐┌───┐     »\n",
       "«      q_3 -> 1 ┤ X ├┤ Rz(-π/4) ├┤ X ├┤ Rz(3π/4) ├┤ √X ├┤ Rz(π/2) ├┤ X ├──■──»\n",
       "«               └─┬─┘├─────────┬┘└─┬─┘└──────────┘└────┘└─────────┘└─┬─┘  │  »\n",
       "«      q_1 -> 2 ──■──┤ Rz(π/4) ├───┼─────────────────────────────────┼────┼──»\n",
       "«                    └─────────┘   │                                 │  ┌─┴─┐»\n",
       "«      q_0 -> 3 ───────────────────■─────────────────────────────────■──┤ X ├»\n",
       "«                                                                       └───┘»\n",
       "«      q_2 -> 4 ─────────────────────────────────────────────────────────────»\n",
       "«                                                                            »\n",
       "«          c: 4/═════════════════════════════════════════════════════════════»\n",
       "«                                                                            »\n",
       "«                                                \n",
       "«ancilla_0 -> 0 ─────────────────────────────────\n",
       "«               ┌───┐     ┌─────────┐      ┌─┐   \n",
       "«      q_3 -> 1 ┤ X ├──■──┤ Rz(π/4) ├───■──┤M├───\n",
       "«               └─┬─┘┌─┴─┐├─────────┴┐┌─┴─┐└╥┘┌─┐\n",
       "«      q_1 -> 2 ──┼──┤ X ├┤ Rz(-π/4) ├┤ X ├─╫─┤M├\n",
       "«                 │  └┬─┬┘└──────────┘└───┘ ║ └╥┘\n",
       "«      q_0 -> 3 ──■───┤M├───────────────────╫──╫─\n",
       "«                     └╥┘                   ║  ║ \n",
       "«      q_2 -> 4 ───────╫────────────────────╫──╫─\n",
       "«                      ║                    ║  ║ \n",
       "«          c: 4/═══════╩════════════════════╩══╩═\n",
       "«                      3                    0  1 "
      ]
     },
     "execution_count": 4,
     "metadata": {},
     "output_type": "execute_result"
    }
   ],
   "source": [
    "qca_trans.draw()"
   ]
  },
  {
   "cell_type": "code",
   "execution_count": 3,
   "id": "d2c315bb-55ce-4844-802b-af72ffdba05e",
   "metadata": {},
   "outputs": [
    {
     "data": {
      "text/plain": [
       "'{\"original\": {\"layers\": [{\"operations\": [{\"gate\": \"ccx\", \"num_qubits\": 3, \"num_clbits\": 0, \"params\": [], \"qubits\": [{\"register\": {\"name\": \"q\", \"size\": 4}, \"index\": 0}, {\"register\": {\"name\": \"q\", \"size\": 4}, \"index\": 1}, {\"register\": {\"name\": \"q\", \"size\": 4}, \"index\": 3}], \"clbits\": []}], \"num_op\": 1}, {\"operations\": [{\"gate\": \"measure\", \"num_qubits\": 1, \"num_clbits\": 1, \"params\": [], \"qubits\": [{\"register\": {\"name\": \"q\", \"size\": 4}, \"index\": 2}], \"clbits\": [{\"register\": {\"name\": \"q\", \"size\": 4}, \"index\": 2}]}], \"num_op\": 1}, {\"operations\": [{\"gate\": \"measure\", \"num_qubits\": 1, \"num_clbits\": 1, \"params\": [], \"qubits\": [{\"register\": {\"name\": \"q\", \"size\": 4}, \"index\": 0}], \"clbits\": [{\"register\": {\"name\": \"q\", \"size\": 4}, \"index\": 0}]}], \"num_op\": 1}, {\"operations\": [{\"gate\": \"measure\", \"num_qubits\": 1, \"num_clbits\": 1, \"params\": [], \"qubits\": [{\"register\": {\"name\": \"q\", \"size\": 4}, \"index\": 1}], \"clbits\": [{\"register\": {\"name\": \"q\", \"size\": 4}, \"index\": 1}]}], \"num_op\": 1}, {\"operations\": [{\"gate\": \"measure\", \"num_qubits\": 1, \"num_clbits\": 1, \"params\": [], \"qubits\": [{\"register\": {\"name\": \"q\", \"size\": 4}, \"index\": 3}], \"clbits\": [{\"register\": {\"name\": \"q\", \"size\": 4}, \"index\": 3}]}], \"num_op\": 1}], \"qubits\": [{\"index\": 0, \"register\": {\"name\": \"q\", \"size\": 4}}, {\"index\": 1, \"register\": {\"name\": \"q\", \"size\": 4}}, {\"index\": 2, \"register\": {\"name\": \"q\", \"size\": 4}}, {\"index\": 3, \"register\": {\"name\": \"q\", \"size\": 4}}], \"clbits\": [{\"index\": 0, \"register\": {\"name\": \"c\", \"size\": 4}}, {\"index\": 1, \"register\": {\"name\": \"c\", \"size\": 4}}, {\"index\": 2, \"register\": {\"name\": \"c\", \"size\": 4}}, {\"index\": 3, \"register\": {\"name\": \"c\", \"size\": 4}}], \"num_qubits\": 4, \"num_clbits\": 4, \"global_phase\": 0}, \"transpiled\": {\"layers\": [{\"operations\": [{\"gate\": \"rz\", \"num_qubits\": 1, \"num_clbits\": 0, \"params\": [1.5707963267948966], \"qubits\": [{\"register\": {\"name\": \"q\", \"size\": 5}, \"index\": 1}], \"clbits\": []}], \"num_op\": 1}, {\"operations\": [{\"gate\": \"measure\", \"num_qubits\": 1, \"num_clbits\": 1, \"params\": [], \"qubits\": [{\"register\": {\"name\": \"q\", \"size\": 5}, \"index\": 0}], \"clbits\": [{\"register\": {\"name\": \"q\", \"size\": 5}, \"index\": 0}]}], \"num_op\": 1}, {\"operations\": [{\"gate\": \"sx\", \"num_qubits\": 1, \"num_clbits\": 0, \"params\": [], \"qubits\": [{\"register\": {\"name\": \"q\", \"size\": 5}, \"index\": 1}], \"clbits\": []}], \"num_op\": 1}, {\"operations\": [{\"gate\": \"rz\", \"num_qubits\": 1, \"num_clbits\": 0, \"params\": [1.5707963267948966], \"qubits\": [{\"register\": {\"name\": \"q\", \"size\": 5}, \"index\": 1}], \"clbits\": []}], \"num_op\": 1}, {\"operations\": [{\"gate\": \"cx\", \"num_qubits\": 2, \"num_clbits\": 0, \"params\": [], \"qubits\": [{\"register\": {\"name\": \"q\", \"size\": 5}, \"index\": 2}, {\"register\": {\"name\": \"q\", \"size\": 5}, \"index\": 1}], \"clbits\": []}], \"num_op\": 1}, {\"operations\": [{\"gate\": \"rz\", \"num_qubits\": 1, \"num_clbits\": 0, \"params\": [-0.7853981633974483], \"qubits\": [{\"register\": {\"name\": \"q\", \"size\": 5}, \"index\": 1}], \"clbits\": []}], \"num_op\": 1}, {\"operations\": [{\"gate\": \"cx\", \"num_qubits\": 2, \"num_clbits\": 0, \"params\": [], \"qubits\": [{\"register\": {\"name\": \"q\", \"size\": 5}, \"index\": 3}, {\"register\": {\"name\": \"q\", \"size\": 5}, \"index\": 1}], \"clbits\": []}], \"num_op\": 1}, {\"operations\": [{\"gate\": \"rz\", \"num_qubits\": 1, \"num_clbits\": 0, \"params\": [0.7853981633974483], \"qubits\": [{\"register\": {\"name\": \"q\", \"size\": 5}, \"index\": 1}], \"clbits\": []}], \"num_op\": 1}, {\"operations\": [{\"gate\": \"cx\", \"num_qubits\": 2, \"num_clbits\": 0, \"params\": [], \"qubits\": [{\"register\": {\"name\": \"q\", \"size\": 5}, \"index\": 2}, {\"register\": {\"name\": \"q\", \"size\": 5}, \"index\": 1}], \"clbits\": []}], \"num_op\": 1}, {\"operations\": [{\"gate\": \"rz\", \"num_qubits\": 1, \"num_clbits\": 0, \"params\": [-0.7853981633974483], \"qubits\": [{\"register\": {\"name\": \"q\", \"size\": 5}, \"index\": 1}], \"clbits\": []}, {\"gate\": \"rz\", \"num_qubits\": 1, \"num_clbits\": 0, \"params\": [0.7853981633974483], \"qubits\": [{\"register\": {\"name\": \"q\", \"size\": 5}, \"index\": 2}], \"clbits\": []}], \"num_op\": 2}, {\"operations\": [{\"gate\": \"cx\", \"num_qubits\": 2, \"num_clbits\": 0, \"params\": [], \"qubits\": [{\"register\": {\"name\": \"q\", \"size\": 5}, \"index\": 3}, {\"register\": {\"name\": \"q\", \"size\": 5}, \"index\": 1}], \"clbits\": []}], \"num_op\": 1}, {\"operations\": [{\"gate\": \"rz\", \"num_qubits\": 1, \"num_clbits\": 0, \"params\": [2.356194490192345], \"qubits\": [{\"register\": {\"name\": \"q\", \"size\": 5}, \"index\": 1}], \"clbits\": []}], \"num_op\": 1}, {\"operations\": [{\"gate\": \"sx\", \"num_qubits\": 1, \"num_clbits\": 0, \"params\": [], \"qubits\": [{\"register\": {\"name\": \"q\", \"size\": 5}, \"index\": 1}], \"clbits\": []}], \"num_op\": 1}, {\"operations\": [{\"gate\": \"rz\", \"num_qubits\": 1, \"num_clbits\": 0, \"params\": [1.5707963267948966], \"qubits\": [{\"register\": {\"name\": \"q\", \"size\": 5}, \"index\": 1}], \"clbits\": []}], \"num_op\": 1}, {\"operations\": [{\"gate\": \"cx\", \"num_qubits\": 2, \"num_clbits\": 0, \"params\": [], \"qubits\": [{\"register\": {\"name\": \"q\", \"size\": 5}, \"index\": 3}, {\"register\": {\"name\": \"q\", \"size\": 5}, \"index\": 1}], \"clbits\": []}], \"num_op\": 1}, {\"operations\": [{\"gate\": \"cx\", \"num_qubits\": 2, \"num_clbits\": 0, \"params\": [], \"qubits\": [{\"register\": {\"name\": \"q\", \"size\": 5}, \"index\": 1}, {\"register\": {\"name\": \"q\", \"size\": 5}, \"index\": 3}], \"clbits\": []}], \"num_op\": 1}, {\"operations\": [{\"gate\": \"cx\", \"num_qubits\": 2, \"num_clbits\": 0, \"params\": [], \"qubits\": [{\"register\": {\"name\": \"q\", \"size\": 5}, \"index\": 3}, {\"register\": {\"name\": \"q\", \"size\": 5}, \"index\": 1}], \"clbits\": []}], \"num_op\": 1}, {\"operations\": [{\"gate\": \"cx\", \"num_qubits\": 2, \"num_clbits\": 0, \"params\": [], \"qubits\": [{\"register\": {\"name\": \"q\", \"size\": 5}, \"index\": 1}, {\"register\": {\"name\": \"q\", \"size\": 5}, \"index\": 2}], \"clbits\": []}, {\"gate\": \"measure\", \"num_qubits\": 1, \"num_clbits\": 1, \"params\": [], \"qubits\": [{\"register\": {\"name\": \"q\", \"size\": 5}, \"index\": 3}], \"clbits\": [{\"register\": {\"name\": \"q\", \"size\": 5}, \"index\": 3}]}], \"num_op\": 2}, {\"operations\": [{\"gate\": \"rz\", \"num_qubits\": 1, \"num_clbits\": 0, \"params\": [0.7853981633974483], \"qubits\": [{\"register\": {\"name\": \"q\", \"size\": 5}, \"index\": 1}], \"clbits\": []}, {\"gate\": \"rz\", \"num_qubits\": 1, \"num_clbits\": 0, \"params\": [-0.7853981633974483], \"qubits\": [{\"register\": {\"name\": \"q\", \"size\": 5}, \"index\": 2}], \"clbits\": []}], \"num_op\": 2}, {\"operations\": [{\"gate\": \"cx\", \"num_qubits\": 2, \"num_clbits\": 0, \"params\": [], \"qubits\": [{\"register\": {\"name\": \"q\", \"size\": 5}, \"index\": 1}, {\"register\": {\"name\": \"q\", \"size\": 5}, \"index\": 2}], \"clbits\": []}], \"num_op\": 1}, {\"operations\": [{\"gate\": \"measure\", \"num_qubits\": 1, \"num_clbits\": 1, \"params\": [], \"qubits\": [{\"register\": {\"name\": \"q\", \"size\": 5}, \"index\": 1}], \"clbits\": [{\"register\": {\"name\": \"q\", \"size\": 5}, \"index\": 1}]}], \"num_op\": 1}, {\"operations\": [{\"gate\": \"measure\", \"num_qubits\": 1, \"num_clbits\": 1, \"params\": [], \"qubits\": [{\"register\": {\"name\": \"q\", \"size\": 5}, \"index\": 2}], \"clbits\": [{\"register\": {\"name\": \"q\", \"size\": 5}, \"index\": 2}]}], \"num_op\": 1}], \"qubits\": [{\"index\": 0, \"register\": {\"name\": \"q\", \"size\": 5}}, {\"index\": 1, \"register\": {\"name\": \"q\", \"size\": 5}}, {\"index\": 2, \"register\": {\"name\": \"q\", \"size\": 5}}, {\"index\": 3, \"register\": {\"name\": \"q\", \"size\": 5}}, {\"index\": 4, \"register\": {\"name\": \"q\", \"size\": 5}}], \"clbits\": [{\"index\": 0, \"register\": {\"name\": \"c\", \"size\": 4}}, {\"index\": 1, \"register\": {\"name\": \"c\", \"size\": 4}}, {\"index\": 2, \"register\": {\"name\": \"c\", \"size\": 4}}, {\"index\": 3, \"register\": {\"name\": \"c\", \"size\": 4}}], \"num_qubits\": 5, \"num_clbits\": 4, \"global_phase\": 1.5707963267948966}, \"match\": {\"layer_match\": [{\"from\": [0, 0], \"to\": {\"matches\": [[0, 0], [2, 0], [3, 0], [4, 0], [5, 0], [6, 0], [7, 0], [8, 0], [9, 0], [9, 1], [10, 0], [11, 0], [12, 0], [13, 0], [14, 0], [15, 0], [16, 0], [17, 0], [18, 0], [18, 1], [19, 0]], \"complete\": true, \"un_matches\": 0}}, {\"from\": [1, 0], \"to\": {\"matches\": [[1, 0]], \"complete\": true, \"un_matches\": 0}}, {\"from\": [2, 0], \"to\": {\"matches\": [[20, 0]], \"complete\": true, \"un_matches\": 0}}, {\"from\": [3, 0], \"to\": {\"matches\": [[21, 0]], \"complete\": true, \"un_matches\": 0}}, {\"from\": [4, 0], \"to\": {\"matches\": [[17, 1]], \"complete\": true, \"un_matches\": 0}}], \"bit_match\": [{\"from\": 0, \"to\": 1, \"is_ancilla\": false}, {\"from\": 1, \"to\": 2, \"is_ancilla\": false}, {\"from\": 2, \"to\": 0, \"is_ancilla\": false}, {\"from\": 3, \"to\": 3, \"is_ancilla\": false}, {\"from\": null, \"to\": 4, \"is_ancilla\": true}]}, \"backend\": {\"name\": \"ibmq_vigo\", \"version\": \"1.3.6\", \"last_update_date\": \"01/20/2021, 03:30:10\", \"machine_data\": {\"backend_name\": \"aer_simulator_from(fake_vigo)\", \"backend_version\": \"1.3.6\", \"n_qubits\": 5, \"basis_gates\": [\"cx\", \"id\", \"rz\", \"sx\", \"x\", \"break_loop\", \"continue_loop\", \"delay\", \"for_loop\", \"if_else\", \"kraus\", \"qerror_loc\", \"quantum_channel\", \"reset\", \"roerror\", \"save_amplitudes\", \"save_amplitudes_sq\", \"save_clifford\", \"save_density_matrix\", \"save_expval\", \"save_expval_var\", \"save_matrix_product_state\", \"save_probabilities\", \"save_probabilities_dict\", \"save_stabilizer\", \"save_state\", \"save_statevector\", \"save_statevector_dict\", \"save_superop\", \"save_unitary\", \"set_density_matrix\", \"set_matrix_product_state\", \"set_stabilizer\", \"set_statevector\", \"set_superop\", \"set_unitary\", \"superop\", \"switch_case\", \"while_loop\"], \"gates\": [{\"name\": \"id\", \"parameters\": [], \"qasm_def\": \"gate id q { U(0, 0, 0) q; }\", \"coupling_map\": [[0], [1], [2], [3], [4]]}, {\"name\": \"rz\", \"parameters\": [\"theta\"], \"qasm_def\": \"gate rz(theta) q { U(0, 0, theta) q; }\", \"coupling_map\": [[0], [1], [2], [3], [4]]}, {\"name\": \"sx\", \"parameters\": [], \"qasm_def\": \"gate sx q { U(pi/2, 3*pi/2, pi/2) q; }\", \"coupling_map\": [[0], [1], [2], [3], [4]]}, {\"name\": \"x\", \"parameters\": [], \"qasm_def\": \"gate x q { U(pi, 0, pi) q; }\", \"coupling_map\": [[0], [1], [2], [3], [4]]}, {\"name\": \"cx\", \"parameters\": [], \"qasm_def\": \"gate cx q0, q1 { CX q0, q1; }\", \"coupling_map\": [[0, 1], [1, 0], [1, 2], [1, 3], [2, 1], [3, 1], [3, 4], [4, 3]]}], \"local\": true, \"simulator\": true, \"conditional\": false, \"open_pulse\": false, \"memory\": true, \"max_shots\": 8192, \"coupling_map\": [[0, 1], [1, 0], [1, 2], [1, 3], [2, 1], [3, 1], [3, 4], [4, 3]], \"dynamic_reprate_enabled\": true, \"supported_instructions\": [\"cx\", \"id\", \"delay\", \"measure\", \"reset\", \"rz\", \"sx\", \"u1\", \"u2\", \"u3\", \"x\"], \"rep_delay_range\": [0.0, 500.0], \"default_rep_delay\": 250.0, \"max_experiments\": 75, \"sample_name\": \"Giraffe\", \"n_registers\": 1, \"credits_required\": true, \"online_date\": \"07/03/2019, 04:00:00\", \"description\": \"5 qubit device Vigo\", \"dt\": 0.2222222222222222, \"dtm\": 0.2222222222222222, \"allow_q_object\": true, \"meas_map\": [[0, 1, 2, 3, 4]], \"multi_meas_enabled\": false, \"quantum_volume\": 16, \"url\": \"None\", \"allow_object_storage\": true}, \"design\": {\"nodes\": [{\"index\": 0, \"x\": 0, \"y\": 0}, {\"index\": 1, \"x\": 1, \"y\": 0}, {\"index\": 2, \"x\": 2, \"y\": 0}, {\"index\": 3, \"x\": 1, \"y\": 1}, {\"index\": 4, \"x\": 1, \"y\": 2}], \"edges\": [[0, 1], [1, 0], [1, 2], [1, 3], [2, 1], [3, 1], [3, 4], [4, 3]]}, \"readout_errors\": {\"0\": {\"value\": 0.07509999999999994, \"asof\": \"01/20/2021, 02:21:00\"}, \"1\": {\"value\": 0.022499999999999964, \"asof\": \"01/20/2021, 02:21:00\"}, \"2\": {\"value\": 0.014599999999999946, \"asof\": \"01/20/2021, 02:21:00\"}, \"3\": {\"value\": 0.021500000000000075, \"asof\": \"01/20/2021, 02:21:00\"}, \"4\": {\"value\": 0.033299999999999996, \"asof\": \"01/20/2021, 02:21:00\"}}, \"gate_info\": [{\"qubits\": [0], \"gate\": \"id\", \"gate_error\": {\"value\": 0.0004135213478316029, \"asof\": \"01/20/2021, 02:35:09\"}, \"gate_length\": {\"value\": 35.55555555555556, \"unit\": \"ns\", \"asof\": \"01/20/2021, 03:30:10\"}}, {\"qubits\": [1], \"gate\": \"id\", \"gate_error\": {\"value\": 0.0005020255558466025, \"asof\": \"01/20/2021, 02:35:09\"}, \"gate_length\": {\"value\": 35.55555555555556, \"unit\": \"ns\", \"asof\": \"01/20/2021, 03:30:10\"}}, {\"qubits\": [2], \"gate\": \"id\", \"gate_error\": {\"value\": 0.00040033040197886486, \"asof\": \"01/20/2021, 02:35:09\"}, \"gate_length\": {\"value\": 35.55555555555556, \"unit\": \"ns\", \"asof\": \"01/20/2021, 03:30:10\"}}, {\"qubits\": [3], \"gate\": \"id\", \"gate_error\": {\"value\": 0.0006149355812506126, \"asof\": \"01/20/2021, 02:35:09\"}, \"gate_length\": {\"value\": 35.55555555555556, \"unit\": \"ns\", \"asof\": \"01/20/2021, 03:30:10\"}}, {\"qubits\": [4], \"gate\": \"id\", \"gate_error\": {\"value\": 0.0006307673923554075, \"asof\": \"01/20/2021, 02:35:09\"}, \"gate_length\": {\"value\": 35.55555555555556, \"unit\": \"ns\", \"asof\": \"01/20/2021, 03:30:10\"}}, {\"qubits\": [0], \"gate\": \"rz\", \"gate_error\": {\"value\": 0, \"asof\": \"01/20/2021, 03:30:10\"}, \"gate_length\": {\"value\": 0, \"unit\": \"ns\", \"asof\": \"01/20/2021, 03:30:10\"}}, {\"qubits\": [1], \"gate\": \"rz\", \"gate_error\": {\"value\": 0, \"asof\": \"01/20/2021, 03:30:10\"}, \"gate_length\": {\"value\": 0, \"unit\": \"ns\", \"asof\": \"01/20/2021, 03:30:10\"}}, {\"qubits\": [2], \"gate\": \"rz\", \"gate_error\": {\"value\": 0, \"asof\": \"01/20/2021, 03:30:10\"}, \"gate_length\": {\"value\": 0, \"unit\": \"ns\", \"asof\": \"01/20/2021, 03:30:10\"}}, {\"qubits\": [3], \"gate\": \"rz\", \"gate_error\": {\"value\": 0, \"asof\": \"01/20/2021, 03:30:10\"}, \"gate_length\": {\"value\": 0, \"unit\": \"ns\", \"asof\": \"01/20/2021, 03:30:10\"}}, {\"qubits\": [4], \"gate\": \"rz\", \"gate_error\": {\"value\": 0, \"asof\": \"01/20/2021, 03:30:10\"}, \"gate_length\": {\"value\": 0, \"unit\": \"ns\", \"asof\": \"01/20/2021, 03:30:10\"}}, {\"qubits\": [0], \"gate\": \"sx\", \"gate_error\": {\"value\": 0.0004135213478316029, \"asof\": \"01/20/2021, 02:35:09\"}, \"gate_length\": {\"value\": 35.55555555555556, \"unit\": \"ns\", \"asof\": \"01/20/2021, 03:30:10\"}}, {\"qubits\": [1], \"gate\": \"sx\", \"gate_error\": {\"value\": 0.0005020255558466025, \"asof\": \"01/20/2021, 02:35:09\"}, \"gate_length\": {\"value\": 35.55555555555556, \"unit\": \"ns\", \"asof\": \"01/20/2021, 03:30:10\"}}, {\"qubits\": [2], \"gate\": \"sx\", \"gate_error\": {\"value\": 0.00040033040197886486, \"asof\": \"01/20/2021, 02:35:09\"}, \"gate_length\": {\"value\": 35.55555555555556, \"unit\": \"ns\", \"asof\": \"01/20/2021, 03:30:10\"}}, {\"qubits\": [3], \"gate\": \"sx\", \"gate_error\": {\"value\": 0.0006149355812506126, \"asof\": \"01/20/2021, 02:35:09\"}, \"gate_length\": {\"value\": 35.55555555555556, \"unit\": \"ns\", \"asof\": \"01/20/2021, 03:30:10\"}}, {\"qubits\": [4], \"gate\": \"sx\", \"gate_error\": {\"value\": 0.0006307673923554075, \"asof\": \"01/20/2021, 02:35:09\"}, \"gate_length\": {\"value\": 35.55555555555556, \"unit\": \"ns\", \"asof\": \"01/20/2021, 03:30:10\"}}, {\"qubits\": [0], \"gate\": \"x\", \"gate_error\": {\"value\": 0.0004135213478316029, \"asof\": \"01/20/2021, 02:35:09\"}, \"gate_length\": {\"value\": 35.55555555555556, \"unit\": \"ns\", \"asof\": \"01/20/2021, 03:30:10\"}}, {\"qubits\": [1], \"gate\": \"x\", \"gate_error\": {\"value\": 0.0005020255558466025, \"asof\": \"01/20/2021, 02:35:09\"}, \"gate_length\": {\"value\": 35.55555555555556, \"unit\": \"ns\", \"asof\": \"01/20/2021, 03:30:10\"}}, {\"qubits\": [2], \"gate\": \"x\", \"gate_error\": {\"value\": 0.00040033040197886486, \"asof\": \"01/20/2021, 02:35:09\"}, \"gate_length\": {\"value\": 35.55555555555556, \"unit\": \"ns\", \"asof\": \"01/20/2021, 03:30:10\"}}, {\"qubits\": [3], \"gate\": \"x\", \"gate_error\": {\"value\": 0.0006149355812506126, \"asof\": \"01/20/2021, 02:35:09\"}, \"gate_length\": {\"value\": 35.55555555555556, \"unit\": \"ns\", \"asof\": \"01/20/2021, 03:30:10\"}}, {\"qubits\": [4], \"gate\": \"x\", \"gate_error\": {\"value\": 0.0006307673923554075, \"asof\": \"01/20/2021, 02:35:09\"}, \"gate_length\": {\"value\": 35.55555555555556, \"unit\": \"ns\", \"asof\": \"01/20/2021, 03:30:10\"}}, {\"qubits\": [3, 4], \"gate\": \"cx\", \"gate_error\": {\"value\": 0.00713013415297073, \"asof\": \"01/20/2021, 03:30:10\"}, \"gate_length\": {\"value\": 270.22222222222223, \"unit\": \"ns\", \"asof\": \"01/17/2021, 03:30:10\"}}, {\"qubits\": [4, 3], \"gate\": \"cx\", \"gate_error\": {\"value\": 0.00713013415297073, \"asof\": \"01/20/2021, 03:30:10\"}, \"gate_length\": {\"value\": 305.77777777777777, \"unit\": \"ns\", \"asof\": \"01/17/2021, 03:30:10\"}}, {\"qubits\": [3, 1], \"gate\": \"cx\", \"gate_error\": {\"value\": 0.0092971260000492, \"asof\": \"01/20/2021, 03:16:21\"}, \"gate_length\": {\"value\": 462.2222222222222, \"unit\": \"ns\", \"asof\": \"01/17/2021, 03:30:10\"}}, {\"qubits\": [1, 3], \"gate\": \"cx\", \"gate_error\": {\"value\": 0.0092971260000492, \"asof\": \"01/20/2021, 03:16:21\"}, \"gate_length\": {\"value\": 497.77777777777777, \"unit\": \"ns\", \"asof\": \"01/17/2021, 03:30:10\"}}, {\"qubits\": [1, 2], \"gate\": \"cx\", \"gate_error\": {\"value\": 0.006589629429362032, \"asof\": \"01/20/2021, 03:01:54\"}, \"gate_length\": {\"value\": 227.55555555555554, \"unit\": \"ns\", \"asof\": \"01/17/2021, 03:30:10\"}}, {\"qubits\": [2, 1], \"gate\": \"cx\", \"gate_error\": {\"value\": 0.006589629429362032, \"asof\": \"01/20/2021, 03:01:54\"}, \"gate_length\": {\"value\": 263.1111111111111, \"unit\": \"ns\", \"asof\": \"01/17/2021, 03:30:10\"}}, {\"qubits\": [0, 1], \"gate\": \"cx\", \"gate_error\": {\"value\": 0.012012477900732316, \"asof\": \"01/20/2021, 02:51:37\"}, \"gate_length\": {\"value\": 519.1111111111111, \"unit\": \"ns\", \"asof\": \"01/17/2021, 03:30:10\"}}, {\"qubits\": [1, 0], \"gate\": \"cx\", \"gate_error\": {\"value\": 0.012012477900732316, \"asof\": \"01/20/2021, 02:51:37\"}, \"gate_length\": {\"value\": 554.6666666666666, \"unit\": \"ns\", \"asof\": \"01/17/2021, 03:30:10\"}}]}}'"
      ]
     },
     "execution_count": 3,
     "metadata": {},
     "output_type": "execute_result"
    }
   ],
   "source": [
    "prep.toJSON()"
   ]
  },
  {
   "cell_type": "code",
   "execution_count": 4,
   "id": "58d33725-775a-47d6-bcf0-ef5e645b116c",
   "metadata": {},
   "outputs": [
    {
     "data": {
      "text/html": [
       "<pre style=\"word-wrap: normal;white-space: pre;background: #fff0;line-height: 1.1;font-family: &quot;Courier New&quot;,Courier,monospace\">             ┌─┐      \n",
       "q_0: ──■─────┤M├──────\n",
       "       │     └╥┘┌─┐   \n",
       "q_1: ──■──────╫─┤M├───\n",
       "       │  ┌─┐ ║ └╥┘   \n",
       "q_2: ──┼──┤M├─╫──╫────\n",
       "     ┌─┴─┐└╥┘ ║  ║ ┌─┐\n",
       "q_3: ┤ X ├─╫──╫──╫─┤M├\n",
       "     └───┘ ║  ║  ║ └╥┘\n",
       "c: 4/══════╩══╩══╩══╩═\n",
       "           2  0  1  3 </pre>"
      ],
      "text/plain": [
       "             ┌─┐      \n",
       "q_0: ──■─────┤M├──────\n",
       "       │     └╥┘┌─┐   \n",
       "q_1: ──■──────╫─┤M├───\n",
       "       │  ┌─┐ ║ └╥┘   \n",
       "q_2: ──┼──┤M├─╫──╫────\n",
       "     ┌─┴─┐└╥┘ ║  ║ ┌─┐\n",
       "q_3: ┤ X ├─╫──╫──╫─┤M├\n",
       "     └───┘ ║  ║  ║ └╥┘\n",
       "c: 4/══════╩══╩══╩══╩═\n",
       "           2  0  1  3 "
      ]
     },
     "execution_count": 4,
     "metadata": {},
     "output_type": "execute_result"
    }
   ],
   "source": [
    "qc_a.draw()"
   ]
  },
  {
   "cell_type": "code",
   "execution_count": 3,
   "id": "a331454c-3a0e-4440-a0e1-794c125f324b",
   "metadata": {},
   "outputs": [
    {
     "data": {
      "text/html": [
       "<pre style=\"word-wrap: normal;white-space: pre;background: #fff0;line-height: 1.1;font-family: &quot;Courier New&quot;,Courier,monospace\">global phase: 5π/8\n",
       "                                                                            »\n",
       "ancilla_0 -> 0 ─────────────────────────────────────────────────────────────»\n",
       "               ┌─────────┐┌────┐┌─────────┐┌───┐┌──────────┐┌───┐┌─────────┐»\n",
       "      q_3 -> 1 ┤ Rz(π/2) ├┤ √X ├┤ Rz(π/2) ├┤ X ├┤ Rz(-π/4) ├┤ X ├┤ Rz(π/4) ├»\n",
       "               └─────────┘└────┘└─────────┘└─┬─┘└──────────┘└─┬─┘└─────────┘»\n",
       "      q_1 -> 2 ──────────────────────────────■────────────────┼─────────────»\n",
       "                                                              │             »\n",
       "      q_0 -> 3 ───────────────────────────────────────────────■─────────────»\n",
       "                   ┌─┐                                                      »\n",
       "      q_2 -> 4 ────┤M├──────────────────────────────────────────────────────»\n",
       "                   └╥┘                                                      »\n",
       "          c: 4/═════╩═══════════════════════════════════════════════════════»\n",
       "                    2                                                       »\n",
       "«                                                                            »\n",
       "«ancilla_0 -> 0 ─────────────────────────────────────────────────────────────»\n",
       "«               ┌───┐┌──────────┐┌───┐┌──────────┐┌────┐┌─────────┐┌───┐     »\n",
       "«      q_3 -> 1 ┤ X ├┤ Rz(-π/4) ├┤ X ├┤ Rz(3π/4) ├┤ √X ├┤ Rz(π/2) ├┤ X ├──■──»\n",
       "«               └─┬─┘├─────────┬┘└─┬─┘└──────────┘└────┘└─────────┘└─┬─┘  │  »\n",
       "«      q_1 -> 2 ──■──┤ Rz(π/4) ├───┼─────────────────────────────────┼────┼──»\n",
       "«                    └─────────┘   │                                 │  ┌─┴─┐»\n",
       "«      q_0 -> 3 ───────────────────■─────────────────────────────────■──┤ X ├»\n",
       "«                                                                       └───┘»\n",
       "«      q_2 -> 4 ─────────────────────────────────────────────────────────────»\n",
       "«                                                                            »\n",
       "«          c: 4/═════════════════════════════════════════════════════════════»\n",
       "«                                                                            »\n",
       "«                                                \n",
       "«ancilla_0 -> 0 ─────────────────────────────────\n",
       "«               ┌───┐     ┌─────────┐      ┌─┐   \n",
       "«      q_3 -> 1 ┤ X ├──■──┤ Rz(π/4) ├───■──┤M├───\n",
       "«               └─┬─┘┌─┴─┐├─────────┴┐┌─┴─┐└╥┘┌─┐\n",
       "«      q_1 -> 2 ──┼──┤ X ├┤ Rz(-π/4) ├┤ X ├─╫─┤M├\n",
       "«                 │  └┬─┬┘└──────────┘└───┘ ║ └╥┘\n",
       "«      q_0 -> 3 ──■───┤M├───────────────────╫──╫─\n",
       "«                     └╥┘                   ║  ║ \n",
       "«      q_2 -> 4 ───────╫────────────────────╫──╫─\n",
       "«                      ║                    ║  ║ \n",
       "«          c: 4/═══════╩════════════════════╩══╩═\n",
       "«                      3                    0  1 </pre>"
      ],
      "text/plain": [
       "global phase: 5π/8\n",
       "                                                                            »\n",
       "ancilla_0 -> 0 ─────────────────────────────────────────────────────────────»\n",
       "               ┌─────────┐┌────┐┌─────────┐┌───┐┌──────────┐┌───┐┌─────────┐»\n",
       "      q_3 -> 1 ┤ Rz(π/2) ├┤ √X ├┤ Rz(π/2) ├┤ X ├┤ Rz(-π/4) ├┤ X ├┤ Rz(π/4) ├»\n",
       "               └─────────┘└────┘└─────────┘└─┬─┘└──────────┘└─┬─┘└─────────┘»\n",
       "      q_1 -> 2 ──────────────────────────────■────────────────┼─────────────»\n",
       "                                                              │             »\n",
       "      q_0 -> 3 ───────────────────────────────────────────────■─────────────»\n",
       "                   ┌─┐                                                      »\n",
       "      q_2 -> 4 ────┤M├──────────────────────────────────────────────────────»\n",
       "                   └╥┘                                                      »\n",
       "          c: 4/═════╩═══════════════════════════════════════════════════════»\n",
       "                    2                                                       »\n",
       "«                                                                            »\n",
       "«ancilla_0 -> 0 ─────────────────────────────────────────────────────────────»\n",
       "«               ┌───┐┌──────────┐┌───┐┌──────────┐┌────┐┌─────────┐┌───┐     »\n",
       "«      q_3 -> 1 ┤ X ├┤ Rz(-π/4) ├┤ X ├┤ Rz(3π/4) ├┤ √X ├┤ Rz(π/2) ├┤ X ├──■──»\n",
       "«               └─┬─┘├─────────┬┘└─┬─┘└──────────┘└────┘└─────────┘└─┬─┘  │  »\n",
       "«      q_1 -> 2 ──■──┤ Rz(π/4) ├───┼─────────────────────────────────┼────┼──»\n",
       "«                    └─────────┘   │                                 │  ┌─┴─┐»\n",
       "«      q_0 -> 3 ───────────────────■─────────────────────────────────■──┤ X ├»\n",
       "«                                                                       └───┘»\n",
       "«      q_2 -> 4 ─────────────────────────────────────────────────────────────»\n",
       "«                                                                            »\n",
       "«          c: 4/═════════════════════════════════════════════════════════════»\n",
       "«                                                                            »\n",
       "«                                                \n",
       "«ancilla_0 -> 0 ─────────────────────────────────\n",
       "«               ┌───┐     ┌─────────┐      ┌─┐   \n",
       "«      q_3 -> 1 ┤ X ├──■──┤ Rz(π/4) ├───■──┤M├───\n",
       "«               └─┬─┘┌─┴─┐├─────────┴┐┌─┴─┐└╥┘┌─┐\n",
       "«      q_1 -> 2 ──┼──┤ X ├┤ Rz(-π/4) ├┤ X ├─╫─┤M├\n",
       "«                 │  └┬─┬┘└──────────┘└───┘ ║ └╥┘\n",
       "«      q_0 -> 3 ──■───┤M├───────────────────╫──╫─\n",
       "«                     └╥┘                   ║  ║ \n",
       "«      q_2 -> 4 ───────╫────────────────────╫──╫─\n",
       "«                      ║                    ║  ║ \n",
       "«          c: 4/═══════╩════════════════════╩══╩═\n",
       "«                      3                    0  1 "
      ]
     },
     "execution_count": 3,
     "metadata": {},
     "output_type": "execute_result"
    }
   ],
   "source": [
    "qca_trans.draw()"
   ]
  },
  {
   "cell_type": "code",
   "execution_count": 3,
   "id": "fdebccd7-e05b-45f8-af2b-6857d5e1095c",
   "metadata": {},
   "outputs": [
    {
     "data": {
      "text/html": [
       "<pre style=\"word-wrap: normal;white-space: pre;background: #fff0;line-height: 1.1;font-family: &quot;Courier New&quot;,Courier,monospace\">global phase: 5π/8\n",
       "                                                                            »\n",
       "ancilla_0 -> 0 ─────────────────────────────────────────────────────────────»\n",
       "               ┌─────────┐┌────┐┌─────────┐┌───┐┌──────────┐┌───┐┌─────────┐»\n",
       "      q_3 -> 1 ┤ Rz(π/2) ├┤ √X ├┤ Rz(π/2) ├┤ X ├┤ Rz(-π/4) ├┤ X ├┤ Rz(π/4) ├»\n",
       "               └─────────┘└────┘└─────────┘└─┬─┘└──────────┘└─┬─┘└─────────┘»\n",
       "      q_0 -> 2 ──────────────────────────────┼────────────────■─────────────»\n",
       "                                             │                              »\n",
       "      q_1 -> 3 ──────────────────────────────■──────────────────────────────»\n",
       "                   ┌─┐                                                      »\n",
       "      q_2 -> 4 ────┤M├──────────────────────────────────────────────────────»\n",
       "                   └╥┘                                                      »\n",
       "          c: 4/═════╩═══════════════════════════════════════════════════════»\n",
       "                    2                                                       »\n",
       "«                                                                            »\n",
       "«ancilla_0 -> 0 ─────────────────────────────────────────────────────────────»\n",
       "«               ┌───┐┌──────────┐┌───┐┌──────────┐┌────┐┌─────────┐┌───┐     »\n",
       "«      q_3 -> 1 ┤ X ├┤ Rz(-π/4) ├┤ X ├┤ Rz(3π/4) ├┤ √X ├┤ Rz(π/2) ├┤ X ├──■──»\n",
       "«               └─┬─┘└──────────┘└─┬─┘└──────────┘└────┘└─────────┘└─┬─┘  │  »\n",
       "«      q_0 -> 2 ──┼────────────────■─────────────────────────────────┼────┼──»\n",
       "«                 │  ┌─────────┐                                     │  ┌─┴─┐»\n",
       "«      q_1 -> 3 ──■──┤ Rz(π/4) ├─────────────────────────────────────■──┤ X ├»\n",
       "«                    └─────────┘                                        └───┘»\n",
       "«      q_2 -> 4 ─────────────────────────────────────────────────────────────»\n",
       "«                                                                            »\n",
       "«          c: 4/═════════════════════════════════════════════════════════════»\n",
       "«                                                                            »\n",
       "«                                                \n",
       "«ancilla_0 -> 0 ─────────────────────────────────\n",
       "«               ┌───┐┌───┐┌──────────┐┌───┐   ┌─┐\n",
       "«      q_3 -> 1 ┤ X ├┤ X ├┤ Rz(-π/4) ├┤ X ├───┤M├\n",
       "«               └─┬─┘└─┬─┘├─────────┬┘└─┬─┘┌─┐└╥┘\n",
       "«      q_0 -> 2 ──┼────■──┤ Rz(π/4) ├───■──┤M├─╫─\n",
       "«                 │   ┌─┐ └─────────┘      └╥┘ ║ \n",
       "«      q_1 -> 3 ──■───┤M├───────────────────╫──╫─\n",
       "«                     └╥┘                   ║  ║ \n",
       "«      q_2 -> 4 ───────╫────────────────────╫──╫─\n",
       "«                      ║                    ║  ║ \n",
       "«          c: 4/═══════╩════════════════════╩══╩═\n",
       "«                      3                    0  1 </pre>"
      ],
      "text/plain": [
       "global phase: 5π/8\n",
       "                                                                            »\n",
       "ancilla_0 -> 0 ─────────────────────────────────────────────────────────────»\n",
       "               ┌─────────┐┌────┐┌─────────┐┌───┐┌──────────┐┌───┐┌─────────┐»\n",
       "      q_3 -> 1 ┤ Rz(π/2) ├┤ √X ├┤ Rz(π/2) ├┤ X ├┤ Rz(-π/4) ├┤ X ├┤ Rz(π/4) ├»\n",
       "               └─────────┘└────┘└─────────┘└─┬─┘└──────────┘└─┬─┘└─────────┘»\n",
       "      q_0 -> 2 ──────────────────────────────┼────────────────■─────────────»\n",
       "                                             │                              »\n",
       "      q_1 -> 3 ──────────────────────────────■──────────────────────────────»\n",
       "                   ┌─┐                                                      »\n",
       "      q_2 -> 4 ────┤M├──────────────────────────────────────────────────────»\n",
       "                   └╥┘                                                      »\n",
       "          c: 4/═════╩═══════════════════════════════════════════════════════»\n",
       "                    2                                                       »\n",
       "«                                                                            »\n",
       "«ancilla_0 -> 0 ─────────────────────────────────────────────────────────────»\n",
       "«               ┌───┐┌──────────┐┌───┐┌──────────┐┌────┐┌─────────┐┌───┐     »\n",
       "«      q_3 -> 1 ┤ X ├┤ Rz(-π/4) ├┤ X ├┤ Rz(3π/4) ├┤ √X ├┤ Rz(π/2) ├┤ X ├──■──»\n",
       "«               └─┬─┘└──────────┘└─┬─┘└──────────┘└────┘└─────────┘└─┬─┘  │  »\n",
       "«      q_0 -> 2 ──┼────────────────■─────────────────────────────────┼────┼──»\n",
       "«                 │  ┌─────────┐                                     │  ┌─┴─┐»\n",
       "«      q_1 -> 3 ──■──┤ Rz(π/4) ├─────────────────────────────────────■──┤ X ├»\n",
       "«                    └─────────┘                                        └───┘»\n",
       "«      q_2 -> 4 ─────────────────────────────────────────────────────────────»\n",
       "«                                                                            »\n",
       "«          c: 4/═════════════════════════════════════════════════════════════»\n",
       "«                                                                            »\n",
       "«                                                \n",
       "«ancilla_0 -> 0 ─────────────────────────────────\n",
       "«               ┌───┐┌───┐┌──────────┐┌───┐   ┌─┐\n",
       "«      q_3 -> 1 ┤ X ├┤ X ├┤ Rz(-π/4) ├┤ X ├───┤M├\n",
       "«               └─┬─┘└─┬─┘├─────────┬┘└─┬─┘┌─┐└╥┘\n",
       "«      q_0 -> 2 ──┼────■──┤ Rz(π/4) ├───■──┤M├─╫─\n",
       "«                 │   ┌─┐ └─────────┘      └╥┘ ║ \n",
       "«      q_1 -> 3 ──■───┤M├───────────────────╫──╫─\n",
       "«                     └╥┘                   ║  ║ \n",
       "«      q_2 -> 4 ───────╫────────────────────╫──╫─\n",
       "«                      ║                    ║  ║ \n",
       "«          c: 4/═══════╩════════════════════╩══╩═\n",
       "«                      3                    0  1 "
      ]
     },
     "execution_count": 3,
     "metadata": {},
     "output_type": "execute_result"
    }
   ],
   "source": [
    "qca_trans.draw()"
   ]
  },
  {
   "cell_type": "code",
   "execution_count": 11,
   "id": "595f562d-db54-4319-8443-f1fb9d5a175f",
   "metadata": {},
   "outputs": [],
   "source": [
    "from qiskit.circuit.library import SGate, iSwapGate, U1Gate, PauliGate, XGate, U3Gate, UnitaryGate,CPhaseGate, C4XGate\n",
    "import math"
   ]
  },
  {
   "cell_type": "code",
   "execution_count": 42,
   "id": "e4a40c14-b7aa-41b2-8655-318b4f91d756",
   "metadata": {},
   "outputs": [
    {
     "data": {
      "text/plain": [
       "[CircuitInstruction(operation=Instruction(name='s', num_qubits=1, num_clbits=0, params=[]), qubits=(Qubit(QuantumRegister(2, 'q'), 0),), clbits=()), CircuitInstruction(operation=Instruction(name='s', num_qubits=1, num_clbits=0, params=[]), qubits=(Qubit(QuantumRegister(2, 'q'), 1),), clbits=()), CircuitInstruction(operation=Instruction(name='h', num_qubits=1, num_clbits=0, params=[]), qubits=(Qubit(QuantumRegister(2, 'q'), 0),), clbits=()), CircuitInstruction(operation=Instruction(name='cx', num_qubits=2, num_clbits=0, params=[]), qubits=(Qubit(QuantumRegister(2, 'q'), 0), Qubit(QuantumRegister(2, 'q'), 1)), clbits=()), CircuitInstruction(operation=Instruction(name='cx', num_qubits=2, num_clbits=0, params=[]), qubits=(Qubit(QuantumRegister(2, 'q'), 1), Qubit(QuantumRegister(2, 'q'), 0)), clbits=()), CircuitInstruction(operation=Instruction(name='h', num_qubits=1, num_clbits=0, params=[]), qubits=(Qubit(QuantumRegister(2, 'q'), 1),), clbits=())]"
      ]
     },
     "execution_count": 42,
     "metadata": {},
     "output_type": "execute_result"
    }
   ],
   "source": [
    "iSwapGate().definition.data"
   ]
  },
  {
   "cell_type": "code",
   "execution_count": 27,
   "id": "681ccbbe-f4b6-44c8-b0f0-43c2e5de9241",
   "metadata": {},
   "outputs": [
    {
     "data": {
      "text/plain": [
       "[CircuitInstruction(operation=Instruction(name='u3', num_qubits=1, num_clbits=0, params=[0, 0, 1.5707963267948966]), qubits=(Qubit(QuantumRegister(1, 'q'), 0),), clbits=())]"
      ]
     },
     "execution_count": 27,
     "metadata": {},
     "output_type": "execute_result"
    }
   ],
   "source": [
    "U1Gate(math.pi/2).definition.data"
   ]
  },
  {
   "cell_type": "code",
   "execution_count": 36,
   "id": "c1f57be4-53c5-4e02-b9cf-dd628e02ef32",
   "metadata": {},
   "outputs": [
    {
     "data": {
      "text/plain": [
       "[CircuitInstruction(operation=Instruction(name='u', num_qubits=1, num_clbits=0, params=[3.141592653589793, 0, 3.141592653589793]), qubits=(Qubit(QuantumRegister(1, 'q'), 0),), clbits=())]"
      ]
     },
     "execution_count": 36,
     "metadata": {},
     "output_type": "execute_result"
    }
   ],
   "source": [
    "U3Gate(3.141592653589793, 0, 3.141592653589793).definition.data"
   ]
  },
  {
   "cell_type": "code",
   "execution_count": 38,
   "id": "278d2870-6c5a-49dd-b685-cacd42b6c871",
   "metadata": {},
   "outputs": [
    {
     "data": {
      "text/plain": [
       "[CircuitInstruction(operation=Instruction(name='u', num_qubits=1, num_clbits=0, params=[1.570796326794897, -2.4016649953431966, 4.440892098500626e-16]), qubits=(Qubit(QuantumRegister(2, 'q3'), 0),), clbits=()), CircuitInstruction(operation=Instruction(name='u', num_qubits=1, num_clbits=0, params=[1.5707963267948968, 0.0, 0.10110569981616457]), qubits=(Qubit(QuantumRegister(2, 'q3'), 1),), clbits=()), CircuitInstruction(operation=Instruction(name='cx', num_qubits=2, num_clbits=0, params=[]), qubits=(Qubit(QuantumRegister(2, 'q3'), 0), Qubit(QuantumRegister(2, 'q3'), 1)), clbits=()), CircuitInstruction(operation=Instruction(name='u', num_qubits=1, num_clbits=0, params=[1.570796326794896, -3.141592653589793, -0.7399276582465957]), qubits=(Qubit(QuantumRegister(2, 'q3'), 0),), clbits=()), CircuitInstruction(operation=Instruction(name='u', num_qubits=1, num_clbits=0, params=[1.5707963267948966, 0.10110569981616457, 0.0]), qubits=(Qubit(QuantumRegister(2, 'q3'), 1),), clbits=())]"
      ]
     },
     "execution_count": 38,
     "metadata": {},
     "output_type": "execute_result"
    }
   ],
   "source": [
    "matrix = [[0, 0, 0, 1],\n",
    "          [0, 0, 1, 0],\n",
    "          [1, 0, 0, 0],\n",
    "          [0, 1, 0, 0]]\n",
    "gate = UnitaryGate(matrix)\n",
    "gate.definition.data"
   ]
  },
  {
   "cell_type": "code",
   "execution_count": 7,
   "id": "8fc15afa-60b7-47f7-b365-d8596b946f01",
   "metadata": {},
   "outputs": [
    {
     "data": {
      "text/html": [
       "<pre style=\"word-wrap: normal;white-space: pre;background: #fff0;line-height: 1.1;font-family: &quot;Courier New&quot;,Courier,monospace\">                ┌────────┐┌────┐┌─────────┐     ┌───┐                 »\n",
       "      q_0 -> 0 ─┤ Rz(-π) ├┤ √X ├┤ Rz(π/2) ├──■──┤ X ├─────────────────»\n",
       "               ┌┴────────┤└────┘└─────────┘┌─┴─┐└─┬─┘┌─────────┐┌────┐»\n",
       "      q_1 -> 1 ┤ Rz(π/2) ├─────────────────┤ X ├──■──┤ Rz(π/2) ├┤ √X ├»\n",
       "               └─────────┘                 └───┘     └─────────┘└────┘»\n",
       "ancilla_0 -> 2 ───────────────────────────────────────────────────────»\n",
       "                                                                      »\n",
       "ancilla_1 -> 3 ───────────────────────────────────────────────────────»\n",
       "                                                                      »\n",
       "ancilla_2 -> 4 ───────────────────────────────────────────────────────»\n",
       "                                                                      »\n",
       "«                          \n",
       "«      q_0 -> 0 ───────────\n",
       "«               ┌─────────┐\n",
       "«      q_1 -> 1 ┤ Rz(π/2) ├\n",
       "«               └─────────┘\n",
       "«ancilla_0 -> 2 ───────────\n",
       "«                          \n",
       "«ancilla_1 -> 3 ───────────\n",
       "«                          \n",
       "«ancilla_2 -> 4 ───────────\n",
       "«                          </pre>"
      ],
      "text/plain": [
       "                ┌────────┐┌────┐┌─────────┐     ┌───┐                 »\n",
       "      q_0 -> 0 ─┤ Rz(-π) ├┤ √X ├┤ Rz(π/2) ├──■──┤ X ├─────────────────»\n",
       "               ┌┴────────┤└────┘└─────────┘┌─┴─┐└─┬─┘┌─────────┐┌────┐»\n",
       "      q_1 -> 1 ┤ Rz(π/2) ├─────────────────┤ X ├──■──┤ Rz(π/2) ├┤ √X ├»\n",
       "               └─────────┘                 └───┘     └─────────┘└────┘»\n",
       "ancilla_0 -> 2 ───────────────────────────────────────────────────────»\n",
       "                                                                      »\n",
       "ancilla_1 -> 3 ───────────────────────────────────────────────────────»\n",
       "                                                                      »\n",
       "ancilla_2 -> 4 ───────────────────────────────────────────────────────»\n",
       "                                                                      »\n",
       "«                          \n",
       "«      q_0 -> 0 ───────────\n",
       "«               ┌─────────┐\n",
       "«      q_1 -> 1 ┤ Rz(π/2) ├\n",
       "«               └─────────┘\n",
       "«ancilla_0 -> 2 ───────────\n",
       "«                          \n",
       "«ancilla_1 -> 3 ───────────\n",
       "«                          \n",
       "«ancilla_2 -> 4 ───────────\n",
       "«                          "
      ]
     },
     "execution_count": 7,
     "metadata": {},
     "output_type": "execute_result"
    }
   ],
   "source": [
    "pm2.run(iSwapGate().definition).draw()"
   ]
  },
  {
   "cell_type": "code",
   "execution_count": 71,
   "id": "cd5c9e59-ddd6-4527-a08c-c3e298c3ac24",
   "metadata": {},
   "outputs": [
    {
     "data": {
      "text/plain": [
       "'global_phase'"
      ]
     },
     "execution_count": 71,
     "metadata": {},
     "output_type": "execute_result"
    }
   ],
   "source": [
    "from qiskit.circuit.library import GlobalPhaseGate\n",
    "GlobalPhaseGate(0.5).name"
   ]
  },
  {
   "cell_type": "code",
   "execution_count": 53,
   "id": "b4aeaae1-6c2e-46b8-bb3b-11d0d4f0ed6e",
   "metadata": {},
   "outputs": [
    {
     "data": {
      "text/html": [
       "<pre style=\"word-wrap: normal;white-space: pre;background: #fff0;line-height: 1.1;font-family: &quot;Courier New&quot;,Courier,monospace\">global phase: 1\n",
       "                 \n",
       "q_0: ────────────\n",
       "     ┌──────────┐\n",
       "q_1: ┤ U(0,0,0) ├\n",
       "     └──────────┘\n",
       "q_2: ────────────\n",
       "                 \n",
       "q_3: ────────────\n",
       "                 \n",
       "c: 4/════════════\n",
       "                 </pre>"
      ],
      "text/plain": [
       "global phase: 1\n",
       "                 \n",
       "q_0: ────────────\n",
       "     ┌──────────┐\n",
       "q_1: ┤ U(0,0,0) ├\n",
       "     └──────────┘\n",
       "q_2: ────────────\n",
       "                 \n",
       "q_3: ────────────\n",
       "                 \n",
       "c: 4/════════════\n",
       "                 "
      ]
     },
     "execution_count": 53,
     "metadata": {},
     "output_type": "execute_result"
    }
   ],
   "source": [
    "qc_b = QuantumCircuit(4, 4, global_phase=1)\n",
    "# qc_b.globalPhase(0, 1)\n",
    "qc_b.u(0, 0, 0, 1)\n",
    "# qc_b.measure([0, 1, 2, 3], [0, 1, 2, 3])\n",
    "qc_b.draw()"
   ]
  },
  {
   "cell_type": "code",
   "execution_count": 12,
   "id": "94cd2a5c-7664-4daa-9a0d-a950e502e76f",
   "metadata": {},
   "outputs": [
    {
     "data": {
      "text/plain": [
       "[0, 1]"
      ]
     },
     "execution_count": 12,
     "metadata": {},
     "output_type": "execute_result"
    }
   ],
   "source": [
    "x = set()\n",
    "x.add(1)\n",
    "x.add(0)\n",
    "y = list(x)\n",
    "y.sort()\n",
    "y"
   ]
  },
  {
   "cell_type": "code",
   "execution_count": 4,
   "id": "a5f8c9f7-96f4-4586-8fda-a577966df1bb",
   "metadata": {},
   "outputs": [],
   "source": [
    "import qiskit.circuit.library as gates"
   ]
  },
  {
   "cell_type": "code",
   "execution_count": 5,
   "id": "ea68e0df-4db2-492f-ad35-647964f1eaff",
   "metadata": {},
   "outputs": [],
   "source": [
    "ccxg = pm2.run(gates.CCXGate().definition)"
   ]
  },
  {
   "cell_type": "code",
   "execution_count": 6,
   "id": "68fceff4-2cbc-4aad-a075-2f088ba32999",
   "metadata": {},
   "outputs": [
    {
     "data": {
      "text/html": [
       "<pre style=\"word-wrap: normal;white-space: pre;background: #fff0;line-height: 1.1;font-family: &quot;Courier New&quot;,Courier,monospace\">global phase: 5π/8\n",
       "                                                                            »\n",
       "ancilla_0 -> 0 ─────────────────────────────────────────────────────────────»\n",
       "               ┌─────────┐┌────┐┌─────────┐┌───┐┌──────────┐┌───┐┌─────────┐»\n",
       "      q_2 -> 1 ┤ Rz(π/2) ├┤ √X ├┤ Rz(π/2) ├┤ X ├┤ Rz(-π/4) ├┤ X ├┤ Rz(π/4) ├»\n",
       "               └─────────┘└────┘└─────────┘└─┬─┘└──────────┘└─┬─┘└─────────┘»\n",
       "      q_1 -> 2 ──────────────────────────────■────────────────┼─────────────»\n",
       "                                                              │             »\n",
       "      q_0 -> 3 ───────────────────────────────────────────────■─────────────»\n",
       "                                                                            »\n",
       "ancilla_1 -> 4 ─────────────────────────────────────────────────────────────»\n",
       "                                                                            »\n",
       "«                                                                            »\n",
       "«ancilla_0 -> 0 ─────────────────────────────────────────────────────────────»\n",
       "«               ┌───┐┌──────────┐┌───┐┌──────────┐┌────┐┌─────────┐┌───┐     »\n",
       "«      q_2 -> 1 ┤ X ├┤ Rz(-π/4) ├┤ X ├┤ Rz(3π/4) ├┤ √X ├┤ Rz(π/2) ├┤ X ├──■──»\n",
       "«               └─┬─┘├─────────┬┘└─┬─┘└──────────┘└────┘└─────────┘└─┬─┘  │  »\n",
       "«      q_1 -> 2 ──■──┤ Rz(π/4) ├───┼─────────────────────────────────┼────┼──»\n",
       "«                    └─────────┘   │                                 │  ┌─┴─┐»\n",
       "«      q_0 -> 3 ───────────────────■─────────────────────────────────■──┤ X ├»\n",
       "«                                                                       └───┘»\n",
       "«ancilla_1 -> 4 ─────────────────────────────────────────────────────────────»\n",
       "«                                                                            »\n",
       "«                                          \n",
       "«ancilla_0 -> 0 ───────────────────────────\n",
       "«               ┌───┐     ┌─────────┐      \n",
       "«      q_2 -> 1 ┤ X ├──■──┤ Rz(π/4) ├───■──\n",
       "«               └─┬─┘┌─┴─┐├─────────┴┐┌─┴─┐\n",
       "«      q_1 -> 2 ──┼──┤ X ├┤ Rz(-π/4) ├┤ X ├\n",
       "«                 │  └───┘└──────────┘└───┘\n",
       "«      q_0 -> 3 ──■────────────────────────\n",
       "«                                          \n",
       "«ancilla_1 -> 4 ───────────────────────────\n",
       "«                                          </pre>"
      ],
      "text/plain": [
       "global phase: 5π/8\n",
       "                                                                            »\n",
       "ancilla_0 -> 0 ─────────────────────────────────────────────────────────────»\n",
       "               ┌─────────┐┌────┐┌─────────┐┌───┐┌──────────┐┌───┐┌─────────┐»\n",
       "      q_2 -> 1 ┤ Rz(π/2) ├┤ √X ├┤ Rz(π/2) ├┤ X ├┤ Rz(-π/4) ├┤ X ├┤ Rz(π/4) ├»\n",
       "               └─────────┘└────┘└─────────┘└─┬─┘└──────────┘└─┬─┘└─────────┘»\n",
       "      q_1 -> 2 ──────────────────────────────■────────────────┼─────────────»\n",
       "                                                              │             »\n",
       "      q_0 -> 3 ───────────────────────────────────────────────■─────────────»\n",
       "                                                                            »\n",
       "ancilla_1 -> 4 ─────────────────────────────────────────────────────────────»\n",
       "                                                                            »\n",
       "«                                                                            »\n",
       "«ancilla_0 -> 0 ─────────────────────────────────────────────────────────────»\n",
       "«               ┌───┐┌──────────┐┌───┐┌──────────┐┌────┐┌─────────┐┌───┐     »\n",
       "«      q_2 -> 1 ┤ X ├┤ Rz(-π/4) ├┤ X ├┤ Rz(3π/4) ├┤ √X ├┤ Rz(π/2) ├┤ X ├──■──»\n",
       "«               └─┬─┘├─────────┬┘└─┬─┘└──────────┘└────┘└─────────┘└─┬─┘  │  »\n",
       "«      q_1 -> 2 ──■──┤ Rz(π/4) ├───┼─────────────────────────────────┼────┼──»\n",
       "«                    └─────────┘   │                                 │  ┌─┴─┐»\n",
       "«      q_0 -> 3 ───────────────────■─────────────────────────────────■──┤ X ├»\n",
       "«                                                                       └───┘»\n",
       "«ancilla_1 -> 4 ─────────────────────────────────────────────────────────────»\n",
       "«                                                                            »\n",
       "«                                          \n",
       "«ancilla_0 -> 0 ───────────────────────────\n",
       "«               ┌───┐     ┌─────────┐      \n",
       "«      q_2 -> 1 ┤ X ├──■──┤ Rz(π/4) ├───■──\n",
       "«               └─┬─┘┌─┴─┐├─────────┴┐┌─┴─┐\n",
       "«      q_1 -> 2 ──┼──┤ X ├┤ Rz(-π/4) ├┤ X ├\n",
       "«                 │  └───┘└──────────┘└───┘\n",
       "«      q_0 -> 3 ──■────────────────────────\n",
       "«                                          \n",
       "«ancilla_1 -> 4 ───────────────────────────\n",
       "«                                          "
      ]
     },
     "execution_count": 6,
     "metadata": {},
     "output_type": "execute_result"
    }
   ],
   "source": [
    "ccxg.draw()"
   ]
  },
  {
   "cell_type": "code",
   "execution_count": 27,
   "id": "d8d17fa2-5cae-4817-be4d-5307cf348f7b",
   "metadata": {},
   "outputs": [
    {
     "name": "stdout",
     "output_type": "stream",
     "text": [
      "!!!!\n",
      "----\n",
      "T1\n",
      "121.70801410836629\n",
      "----\n",
      "T2\n",
      "17.04998277501956\n",
      "----\n",
      "frequency\n",
      "4.796556901072327\n",
      "----\n",
      "anharmonicity\n",
      "-0.3115692205922553\n",
      "----\n",
      "readout_error\n",
      "0.07509999999999994\n",
      "----\n",
      "prob_meas0_prep1\n",
      "0.0736\n",
      "----\n",
      "prob_meas1_prep0\n",
      "0.0766\n",
      "----\n",
      "readout_length\n",
      "5813.333333333333\n",
      "!!!!\n",
      "----\n",
      "T1\n",
      "111.68515230748554\n",
      "----\n",
      "T2\n",
      "132.02334409889457\n",
      "----\n",
      "frequency\n",
      "4.940124055522915\n",
      "----\n",
      "anharmonicity\n",
      "-0.30543161039483363\n",
      "----\n",
      "readout_error\n",
      "0.022499999999999964\n",
      "----\n",
      "prob_meas0_prep1\n",
      "0.03539999999999999\n",
      "----\n",
      "prob_meas1_prep0\n",
      "0.0096\n",
      "----\n",
      "readout_length\n",
      "5813.333333333333\n",
      "!!!!\n",
      "----\n",
      "T1\n",
      "101.82043779287683\n",
      "----\n",
      "T2\n",
      "68.98073019654157\n",
      "----\n",
      "frequency\n",
      "4.8335109735072015\n",
      "----\n",
      "anharmonicity\n",
      "-0.3102935629600691\n",
      "----\n",
      "readout_error\n",
      "0.014599999999999946\n",
      "----\n",
      "prob_meas0_prep1\n",
      "0.0232\n",
      "----\n",
      "prob_meas1_prep0\n",
      "0.006\n",
      "----\n",
      "readout_length\n",
      "5813.333333333333\n",
      "!!!!\n",
      "----\n",
      "T1\n",
      "116.71958434938585\n",
      "----\n",
      "T2\n",
      "85.88197428799032\n",
      "----\n",
      "frequency\n",
      "4.807961451396523\n",
      "----\n",
      "anharmonicity\n",
      "-0.3106927608212116\n",
      "----\n",
      "readout_error\n",
      "0.021500000000000075\n",
      "----\n",
      "prob_meas0_prep1\n",
      "0.027000000000000024\n",
      "----\n",
      "prob_meas1_prep0\n",
      "0.016\n",
      "----\n",
      "readout_length\n",
      "5813.333333333333\n",
      "!!!!\n",
      "----\n",
      "T1\n",
      "86.8005228353819\n",
      "----\n",
      "T2\n",
      "46.85422114328585\n",
      "----\n",
      "frequency\n",
      "4.749674209642721\n",
      "----\n",
      "anharmonicity\n",
      "-0.31229624001394773\n",
      "----\n",
      "readout_error\n",
      "0.033299999999999996\n",
      "----\n",
      "prob_meas0_prep1\n",
      "0.04400000000000004\n",
      "----\n",
      "prob_meas1_prep0\n",
      "0.0226\n",
      "----\n",
      "readout_length\n",
      "5813.333333333333\n"
     ]
    }
   ],
   "source": [
    "for qubit in backend._properties.qubits: \n",
    "    print(\"!!!!\")\n",
    "    for info in qubit:\n",
    "        print(\"----\")\n",
    "        print(info.name)\n",
    "        print(info.value)"
   ]
  },
  {
   "cell_type": "code",
   "execution_count": 4,
   "id": "702ff39f-4c67-4f30-ba81-f7bb02c065e9",
   "metadata": {},
   "outputs": [
    {
     "data": {
      "text/plain": [
       "{'backend_name': 'aer_simulator_from(fake_vigo)',\n",
       " 'backend_version': '1.3.6',\n",
       " 'n_qubits': 5,\n",
       " 'basis_gates': ['cx',\n",
       "  'id',\n",
       "  'rz',\n",
       "  'sx',\n",
       "  'x',\n",
       "  'break_loop',\n",
       "  'continue_loop',\n",
       "  'delay',\n",
       "  'for_loop',\n",
       "  'if_else',\n",
       "  'kraus',\n",
       "  'qerror_loc',\n",
       "  'quantum_channel',\n",
       "  'reset',\n",
       "  'roerror',\n",
       "  'save_amplitudes',\n",
       "  'save_amplitudes_sq',\n",
       "  'save_clifford',\n",
       "  'save_density_matrix',\n",
       "  'save_expval',\n",
       "  'save_expval_var',\n",
       "  'save_matrix_product_state',\n",
       "  'save_probabilities',\n",
       "  'save_probabilities_dict',\n",
       "  'save_stabilizer',\n",
       "  'save_state',\n",
       "  'save_statevector',\n",
       "  'save_statevector_dict',\n",
       "  'save_superop',\n",
       "  'save_unitary',\n",
       "  'set_density_matrix',\n",
       "  'set_matrix_product_state',\n",
       "  'set_stabilizer',\n",
       "  'set_statevector',\n",
       "  'set_superop',\n",
       "  'set_unitary',\n",
       "  'superop',\n",
       "  'switch_case',\n",
       "  'while_loop'],\n",
       " 'gates': [{'name': 'id',\n",
       "   'parameters': [],\n",
       "   'qasm_def': 'gate id q { U(0, 0, 0) q; }',\n",
       "   'coupling_map': [[0], [1], [2], [3], [4]]},\n",
       "  {'name': 'rz',\n",
       "   'parameters': ['theta'],\n",
       "   'qasm_def': 'gate rz(theta) q { U(0, 0, theta) q; }',\n",
       "   'coupling_map': [[0], [1], [2], [3], [4]]},\n",
       "  {'name': 'sx',\n",
       "   'parameters': [],\n",
       "   'qasm_def': 'gate sx q { U(pi/2, 3*pi/2, pi/2) q; }',\n",
       "   'coupling_map': [[0], [1], [2], [3], [4]]},\n",
       "  {'name': 'x',\n",
       "   'parameters': [],\n",
       "   'qasm_def': 'gate x q { U(pi, 0, pi) q; }',\n",
       "   'coupling_map': [[0], [1], [2], [3], [4]]},\n",
       "  {'name': 'cx',\n",
       "   'parameters': [],\n",
       "   'qasm_def': 'gate cx q0, q1 { CX q0, q1; }',\n",
       "   'coupling_map': [[0, 1],\n",
       "    [1, 0],\n",
       "    [1, 2],\n",
       "    [1, 3],\n",
       "    [2, 1],\n",
       "    [3, 1],\n",
       "    [3, 4],\n",
       "    [4, 3]]}],\n",
       " 'local': True,\n",
       " 'simulator': True,\n",
       " 'conditional': False,\n",
       " 'open_pulse': False,\n",
       " 'memory': True,\n",
       " 'max_shots': 8192,\n",
       " 'coupling_map': [[0, 1],\n",
       "  [1, 0],\n",
       "  [1, 2],\n",
       "  [1, 3],\n",
       "  [2, 1],\n",
       "  [3, 1],\n",
       "  [3, 4],\n",
       "  [4, 3]],\n",
       " 'dynamic_reprate_enabled': True,\n",
       " 'supported_instructions': ['cx',\n",
       "  'id',\n",
       "  'delay',\n",
       "  'measure',\n",
       "  'reset',\n",
       "  'rz',\n",
       "  'sx',\n",
       "  'u1',\n",
       "  'u2',\n",
       "  'u3',\n",
       "  'x'],\n",
       " 'rep_delay_range': [0.0, 500.0],\n",
       " 'default_rep_delay': 250.0,\n",
       " 'max_experiments': 75,\n",
       " 'sample_name': 'Giraffe',\n",
       " 'n_registers': 1,\n",
       " 'credits_required': True,\n",
       " 'online_date': datetime.datetime(2019, 7, 3, 4, 0, tzinfo=tzutc()),\n",
       " 'description': '5 qubit device Vigo',\n",
       " 'dt': 0.2222222222222222,\n",
       " 'dtm': 0.2222222222222222,\n",
       " 'allow_q_object': True,\n",
       " 'meas_map': [[0, 1, 2, 3, 4]],\n",
       " 'multi_meas_enabled': False,\n",
       " 'quantum_volume': 16,\n",
       " 'url': 'None',\n",
       " 'allow_object_storage': True}"
      ]
     },
     "execution_count": 4,
     "metadata": {},
     "output_type": "execute_result"
    }
   ],
   "source": [
    "backend.configuration().to_dict()"
   ]
  },
  {
   "cell_type": "code",
   "execution_count": 33,
   "id": "3cc2c27b-4253-43de-bb4e-d10cea2d77f8",
   "metadata": {},
   "outputs": [
    {
     "data": {
      "text/plain": [
       "{'qubits': [0],\n",
       " 'gate': 'sx',\n",
       " 'parameters': [{'date': datetime.datetime(2021, 1, 20, 2, 35, 9, tzinfo=tzoffset(None, -18000)),\n",
       "   'name': 'gate_error',\n",
       "   'unit': '',\n",
       "   'value': 0.0004135213478316029},\n",
       "  {'date': datetime.datetime(2021, 1, 20, 3, 30, 10, tzinfo=tzoffset(None, -18000)),\n",
       "   'name': 'gate_length',\n",
       "   'unit': 'ns',\n",
       "   'value': 35.55555555555556}],\n",
       " 'name': 'sx0'}"
      ]
     },
     "execution_count": 33,
     "metadata": {},
     "output_type": "execute_result"
    }
   ],
   "source": [
    "backend.properties().to_dict()[\"gates\"][10]"
   ]
  },
  {
   "cell_type": "code",
   "execution_count": 3,
   "id": "e8633a95-d4aa-41d0-a08a-5f1ae67bfd0e",
   "metadata": {},
   "outputs": [],
   "source": [
    "from qiskit.visualization import plot_circuit_layout"
   ]
  },
  {
   "cell_type": "code",
   "execution_count": 4,
   "id": "96c220ef-ec58-4fdd-b2cc-7430980b22e5",
   "metadata": {},
   "outputs": [
    {
     "data": {
      "image/png": "[encoded data removed]",
      "text/plain": [
       "<Figure size 271.4x271.4 with 1 Axes>"
      ]
     },
     "execution_count": 4,
     "metadata": {},
     "output_type": "execute_result"
    }
   ],
   "source": [
    "plot_circuit_layout(qca_trans, backend)"
   ]
  },
  {
   "cell_type": "code",
   "execution_count": 6,
   "id": "f7bf4b52-3bb4-47d0-9b35-81b6b72ea221",
   "metadata": {},
   "outputs": [
    {
     "data": {
      "text/plain": [
       "[[0, 1], [1, 0], [1, 2], [1, 3], [2, 1], [3, 1], [3, 4], [4, 3]]"
      ]
     },
     "execution_count": 6,
     "metadata": {},
     "output_type": "execute_result"
    }
   ],
   "source": [
    "backend.configuration().coupling_map"
   ]
  },
  {
   "cell_type": "code",
   "execution_count": 9,
   "id": "a0230f8e-140f-48c4-b22f-840d16da3969",
   "metadata": {},
   "outputs": [
    {
     "data": {
      "text/plain": [
       "'aer_simulator_from(fake_vigo)'"
      ]
     },
     "execution_count": 9,
     "metadata": {},
     "output_type": "execute_result"
    }
   ],
   "source": [
    "backend.name"
   ]
  },
  {
   "cell_type": "code",
   "execution_count": 21,
   "id": "c9f2cdf3-491c-4a2d-bf0b-4a143dfe26e3",
   "metadata": {},
   "outputs": [],
   "source": [
    "import math\n",
    "\n",
    "qc_a = QuantumCircuit(1, 1)\n",
    "# qc_a.h(0)\n",
    "qc_a.z(0)\n",
    "# qc_a.rz(math.pi/2, 1)\n",
    "qc_a.measure([0], [0])\n",
    "\n",
    "optimization_level = 1\n",
    "backend = qiskit_aer.AerSimulator.from_backend(FakeVigo())\n",
    "pm2 = generate_preset_pass_manager(backend=backend, optimization_level=optimization_level)\n",
    "\n",
    "qca_trans = pm2.run(qc_a)\n",
    "\n",
    "job = backend.run(qca_trans)"
   ]
  },
  {
   "cell_type": "code",
   "execution_count": 22,
   "id": "2a1213b5-6b21-45c7-83cf-1d37d45d39d7",
   "metadata": {},
   "outputs": [
    {
     "data": {
      "text/plain": [
       "{'1': 529, '0': 495}"
      ]
     },
     "execution_count": 22,
     "metadata": {},
     "output_type": "execute_result"
    }
   ],
   "source": [
    "job.result().get_counts()"
   ]
  }
 ],
 "metadata": {
  "kernelspec": {
   "display_name": "Python 3 (ipykernel)",
   "language": "python",
   "name": "python3"
  },
  "language_info": {
   "codemirror_mode": {
    "name": "ipython",
    "version": 3
   },
   "file_extension": ".py",
   "mimetype": "text/x-python",
   "name": "python",
   "nbconvert_exporter": "python",
   "pygments_lexer": "ipython3",
   "version": "3.12.3"
  }
 },
 "nbformat": 4,
 "nbformat_minor": 5
}
