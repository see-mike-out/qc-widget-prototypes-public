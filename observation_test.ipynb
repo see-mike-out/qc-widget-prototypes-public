{
 "cells": [
  {
   "cell_type": "code",
   "execution_count": 1,
   "id": "09be7477-87d2-488e-81f9-632360e980c0",
   "metadata": {},
   "outputs": [
    {
     "data": {
      "text/html": [
       "<pre style=\"word-wrap: normal;white-space: pre;background: #fff0;line-height: 1.1;font-family: &quot;Courier New&quot;,Courier,monospace\">     ┌───┐     \n",
       "q_0: ┤ H ├──■──\n",
       "     └───┘┌─┴─┐\n",
       "q_1: ─────┤ X ├\n",
       "          └───┘</pre>"
      ],
      "text/plain": [
       "     ┌───┐     \n",
       "q_0: ┤ H ├──■──\n",
       "     └───┘┌─┴─┐\n",
       "q_1: ─────┤ X ├\n",
       "          └───┘"
      ]
     },
     "execution_count": 1,
     "metadata": {},
     "output_type": "execute_result"
    }
   ],
   "source": [
    "from qiskit import QuantumCircuit\n",
    "from qiskit.quantum_info import SparsePauliOp\n",
    "from qiskit.transpiler.preset_passmanagers import generate_preset_pass_manager\n",
    "from qiskit_ibm_runtime import EstimatorV2 as Estimator\n",
    " \n",
    "# Create a new circuit with two qubits\n",
    "qc = QuantumCircuit(2)\n",
    " \n",
    "# Add a Hadamard gate to qubit 0\n",
    "qc.h(0)\n",
    " \n",
    "# Perform a controlled-X gate on qubit 1, controlled by qubit 0\n",
    "qc.cx(0, 1)\n",
    " \n",
    "# Return a drawing of the circuit using MatPlotLib (\"mpl\"). This is the\n",
    "# last line of the cell, so the drawing appears in the cell output.\n",
    "# Remove the \"mpl\" argument to get a text drawing.\n",
    "qc.draw()\n"
   ]
  },
  {
   "cell_type": "code",
   "execution_count": 64,
   "id": "bf187b26-0d7a-4653-a0f3-a6197ab4633a",
   "metadata": {},
   "outputs": [
    {
     "name": "stdout",
     "output_type": "stream",
     "text": [
      "CircuitInstruction(operation=Instruction(name='h', num_qubits=1, num_clbits=0, params=[]), qubits=(Qubit(QuantumRegister(2, 'q'), 0),), clbits=())\n",
      "CircuitInstruction(operation=Instruction(name='cx', num_qubits=2, num_clbits=0, params=[]), qubits=(Qubit(QuantumRegister(2, 'q'), 0), Qubit(QuantumRegister(2, 'q'), 1)), clbits=())\n"
     ]
    }
   ],
   "source": [
    "for inst in qc.data:\n",
    "    print(inst)"
   ]
  },
  {
   "cell_type": "code",
   "execution_count": 2,
   "id": "c5f2bbd1-573c-40a1-8976-348d73703662",
   "metadata": {},
   "outputs": [],
   "source": [
    "# Set up six different observables.\n",
    "from qiskit.quantum_info import SparsePauliOp\n",
    " \n",
    "observables_labels = [\"IZ\", \"IX\", \"ZI\", \"XI\", \"ZZ\", \"XX\"]\n",
    "observables = [SparsePauliOp(label) for label in observables_labels]\n"
   ]
  },
  {
   "cell_type": "code",
   "execution_count": 4,
   "id": "09e61863-0520-4a5d-8679-410a606a8d59",
   "metadata": {},
   "outputs": [],
   "source": [
    "import qiskit_aer\n",
    "from qiskit.visualization import plot_histogram\n",
    "from qiskit_ibm_runtime.fake_provider import FakeVigo\n",
    "from qiskit import transpile\n"
   ]
  },
  {
   "cell_type": "code",
   "execution_count": 65,
   "id": "970d81ce-b26a-4261-a19b-55706d79fc21",
   "metadata": {},
   "outputs": [
    {
     "data": {
      "text/html": [
       "<pre style=\"word-wrap: normal;white-space: pre;background: #fff0;line-height: 1.1;font-family: &quot;Courier New&quot;,Courier,monospace\">global phase: π/4\n",
       "               ┌─────────┐┌────┐┌─────────┐     \n",
       "      q_0 -> 0 ┤ Rz(π/2) ├┤ √X ├┤ Rz(π/2) ├──■──\n",
       "               └─────────┘└────┘└─────────┘┌─┴─┐\n",
       "      q_1 -> 1 ────────────────────────────┤ X ├\n",
       "                                           └───┘\n",
       "ancilla_0 -> 2 ─────────────────────────────────\n",
       "                                                \n",
       "ancilla_1 -> 3 ─────────────────────────────────\n",
       "                                                \n",
       "ancilla_2 -> 4 ─────────────────────────────────\n",
       "                                                </pre>"
      ],
      "text/plain": [
       "global phase: π/4\n",
       "               ┌─────────┐┌────┐┌─────────┐     \n",
       "      q_0 -> 0 ┤ Rz(π/2) ├┤ √X ├┤ Rz(π/2) ├──■──\n",
       "               └─────────┘└────┘└─────────┘┌─┴─┐\n",
       "      q_1 -> 1 ────────────────────────────┤ X ├\n",
       "                                           └───┘\n",
       "ancilla_0 -> 2 ─────────────────────────────────\n",
       "                                                \n",
       "ancilla_1 -> 3 ─────────────────────────────────\n",
       "                                                \n",
       "ancilla_2 -> 4 ─────────────────────────────────\n",
       "                                                "
      ]
     },
     "execution_count": 65,
     "metadata": {},
     "output_type": "execute_result"
    }
   ],
   "source": [
    "backend = qiskit_aer.AerSimulator.from_backend(FakeVigo())\n",
    " \n",
    "# Convert to an ISA circuit and layout-mapped observables.\n",
    "pm = generate_preset_pass_manager(backend=backend, optimization_level=1)\n",
    "isa_circuit = pm.run(qc)\n",
    " \n",
    "isa_circuit.draw()"
   ]
  },
  {
   "cell_type": "code",
   "execution_count": 83,
   "id": "28155bed-9dd0-413f-902c-a9bd2717a965",
   "metadata": {},
   "outputs": [
    {
     "name": "stdout",
     "output_type": "stream",
     "text": [
      "QuantumRegister(5, 'q')\n",
      "QuantumRegister(5, 'q')\n",
      "QuantumRegister(5, 'q')\n",
      "QuantumRegister(5, 'q')\n",
      "QuantumRegister(5, 'q')\n"
     ]
    }
   ],
   "source": [
    "for qubit in isa_circuit.qubits:\n",
    "    print(qubit._register)"
   ]
  },
  {
   "cell_type": "code",
   "execution_count": 86,
   "id": "c9d64f45-5527-44c5-8cfa-26a66a52388b",
   "metadata": {},
   "outputs": [
    {
     "data": {
      "text/plain": [
       "TranspileLayout(initial_layout=Layout({\n",
       "0: Qubit(QuantumRegister(2, 'q'), 0),\n",
       "1: Qubit(QuantumRegister(2, 'q'), 1),\n",
       "2: Qubit(QuantumRegister(3, 'ancilla'), 0),\n",
       "3: Qubit(QuantumRegister(3, 'ancilla'), 1),\n",
       "4: Qubit(QuantumRegister(3, 'ancilla'), 2)\n",
       "}), input_qubit_mapping={Qubit(QuantumRegister(2, 'q'), 0): 0, Qubit(QuantumRegister(2, 'q'), 1): 1, Qubit(QuantumRegister(3, 'ancilla'), 0): 2, Qubit(QuantumRegister(3, 'ancilla'), 1): 3, Qubit(QuantumRegister(3, 'ancilla'), 2): 4}, final_layout=None, _input_qubit_count=2, _output_qubit_list=[Qubit(QuantumRegister(5, 'q'), 0), Qubit(QuantumRegister(5, 'q'), 1), Qubit(QuantumRegister(5, 'q'), 2), Qubit(QuantumRegister(5, 'q'), 3), Qubit(QuantumRegister(5, 'q'), 4)])"
      ]
     },
     "execution_count": 86,
     "metadata": {},
     "output_type": "execute_result"
    }
   ],
   "source": [
    "isa_circuit.layout"
   ]
  },
  {
   "cell_type": "code",
   "execution_count": 89,
   "id": "3e718322-ea25-469d-9681-acb6c59460c9",
   "metadata": {},
   "outputs": [
    {
     "data": {
      "text/plain": [
       "TranspileLayout(initial_layout=Layout({\n",
       "0: Qubit(QuantumRegister(2, 'q'), 0),\n",
       "1: Qubit(QuantumRegister(2, 'q'), 1),\n",
       "2: Qubit(QuantumRegister(3, 'ancilla'), 0),\n",
       "3: Qubit(QuantumRegister(3, 'ancilla'), 1),\n",
       "4: Qubit(QuantumRegister(3, 'ancilla'), 2)\n",
       "}), input_qubit_mapping={Qubit(QuantumRegister(2, 'q'), 0): 0, Qubit(QuantumRegister(2, 'q'), 1): 1, Qubit(QuantumRegister(3, 'ancilla'), 0): 2, Qubit(QuantumRegister(3, 'ancilla'), 1): 3, Qubit(QuantumRegister(3, 'ancilla'), 2): 4}, final_layout=None, _input_qubit_count=2, _output_qubit_list=[Qubit(QuantumRegister(5, 'q'), 0), Qubit(QuantumRegister(5, 'q'), 1), Qubit(QuantumRegister(5, 'q'), 2), Qubit(QuantumRegister(5, 'q'), 3), Qubit(QuantumRegister(5, 'q'), 4)])"
      ]
     },
     "execution_count": 89,
     "metadata": {},
     "output_type": "execute_result"
    }
   ],
   "source": [
    "isa_circuit.layout"
   ]
  },
  {
   "cell_type": "code",
   "execution_count": 91,
   "id": "e4a1a878-54de-4f18-a8dc-a4fc7a2eb7d4",
   "metadata": {},
   "outputs": [],
   "source": [
    "isa_circuit.duration"
   ]
  },
  {
   "cell_type": "code",
   "execution_count": null,
   "id": "e9140c64-e9cc-47d6-869a-2ff681be5a79",
   "metadata": {},
   "outputs": [],
   "source": [
    "input_qubit_mapping={\n",
    "    Qubit(QuantumRegister(2, 'q'), 0): 0, \n",
    "    Qubit(QuantumRegister(2, 'q'), 1): 1, \n",
    "    Qubit(QuantumRegister(3, 'ancilla'), 0): 2, \n",
    "    Qubit(QuantumRegister(3, 'ancilla'), 1): 3,\n",
    "    Qubit(QuantumRegister(3, 'ancilla'), 2): 4\n",
    "}, \n",
    "final_layout=None, \n",
    "_input_qubit_count=2, \n",
    "_output_qubit_list=[\n",
    "    Qubit(QuantumRegister(5, 'q'), 0), \n",
    "    Qubit(QuantumRegister(5, 'q'), 1), \n",
    "    Qubit(QuantumRegister(5, 'q'), 2), \n",
    "    Qubit(QuantumRegister(5, 'q'), 3), \n",
    "    Qubit(QuantumRegister(5, 'q'), 4)\n",
    "]\n",
    "\n",
    "\n"
   ]
  },
  {
   "cell_type": "code",
   "execution_count": 6,
   "id": "f2f7c553-2eb7-4031-8151-522c36c406ef",
   "metadata": {},
   "outputs": [
    {
     "name": "stderr",
     "output_type": "stream",
     "text": [
      "/Users/hyeokkim/opt/miniconda3/envs/patoka/lib/python3.12/site-packages/qiskit_ibm_runtime/fake_provider/local_service.py:243: UserWarning: Options {'default_shots': 5000} have no effect in local testing mode.\n",
      "  warnings.warn(f\"Options {options_copy} have no effect in local testing mode.\")\n"
     ]
    }
   ],
   "source": [
    "# Construct the Estimator instance.\n",
    "from qiskit_ibm_runtime import EstimatorV2 as Estimator\n",
    " \n",
    "estimator = Estimator(backend=backend)\n",
    "estimator.options.resilience_level = 1\n",
    "estimator.options.default_shots = 5000\n",
    " \n",
    "mapped_observables = [\n",
    "    observable.apply_layout(isa_circuit.layout) for observable in observables\n",
    "]\n",
    " \n",
    "# One pub, with one circuit to run against five different observables.\n",
    "job = estimator.run([(isa_circuit, mapped_observables)])"
   ]
  },
  {
   "cell_type": "code",
   "execution_count": 59,
   "id": "95907eac-e8e4-4b6f-a199-ff088402cb78",
   "metadata": {},
   "outputs": [
    {
     "data": {
      "text/plain": [
       "[CircuitInstruction(operation=Instruction(name='rz', num_qubits=1, num_clbits=0, params=[1.5707963267948966]), qubits=(Qubit(QuantumRegister(5, 'q'), 0),), clbits=()), CircuitInstruction(operation=Instruction(name='sx', num_qubits=1, num_clbits=0, params=[]), qubits=(Qubit(QuantumRegister(5, 'q'), 0),), clbits=()), CircuitInstruction(operation=Instruction(name='rz', num_qubits=1, num_clbits=0, params=[1.5707963267948966]), qubits=(Qubit(QuantumRegister(5, 'q'), 0),), clbits=()), CircuitInstruction(operation=Instruction(name='cx', num_qubits=2, num_clbits=0, params=[]), qubits=(Qubit(QuantumRegister(5, 'q'), 0), Qubit(QuantumRegister(5, 'q'), 1)), clbits=()), CircuitInstruction(operation=Instruction(name='save_expval', num_qubits=5, num_clbits=0, params=[('IIIXX', (1.0, 0))]), qubits=(Qubit(QuantumRegister(5, 'q'), 0), Qubit(QuantumRegister(5, 'q'), 1), Qubit(QuantumRegister(5, 'q'), 2), Qubit(QuantumRegister(5, 'q'), 3), Qubit(QuantumRegister(5, 'q'), 4)), clbits=()), CircuitInstruction(operation=Instruction(name='save_expval', num_qubits=5, num_clbits=0, params=[('IIIXI', (1.0, 0))]), qubits=(Qubit(QuantumRegister(5, 'q'), 0), Qubit(QuantumRegister(5, 'q'), 1), Qubit(QuantumRegister(5, 'q'), 2), Qubit(QuantumRegister(5, 'q'), 3), Qubit(QuantumRegister(5, 'q'), 4)), clbits=()), CircuitInstruction(operation=Instruction(name='save_expval', num_qubits=5, num_clbits=0, params=[('IIIIZ', (1.0, 0))]), qubits=(Qubit(QuantumRegister(5, 'q'), 0), Qubit(QuantumRegister(5, 'q'), 1), Qubit(QuantumRegister(5, 'q'), 2), Qubit(QuantumRegister(5, 'q'), 3), Qubit(QuantumRegister(5, 'q'), 4)), clbits=()), CircuitInstruction(operation=Instruction(name='save_expval', num_qubits=5, num_clbits=0, params=[('IIIZI', (1.0, 0))]), qubits=(Qubit(QuantumRegister(5, 'q'), 0), Qubit(QuantumRegister(5, 'q'), 1), Qubit(QuantumRegister(5, 'q'), 2), Qubit(QuantumRegister(5, 'q'), 3), Qubit(QuantumRegister(5, 'q'), 4)), clbits=()), CircuitInstruction(operation=Instruction(name='save_expval', num_qubits=5, num_clbits=0, params=[('IIIZZ', (1.0, 0))]), qubits=(Qubit(QuantumRegister(5, 'q'), 0), Qubit(QuantumRegister(5, 'q'), 1), Qubit(QuantumRegister(5, 'q'), 2), Qubit(QuantumRegister(5, 'q'), 3), Qubit(QuantumRegister(5, 'q'), 4)), clbits=()), CircuitInstruction(operation=Instruction(name='save_expval', num_qubits=5, num_clbits=0, params=[('IIIIX', (1.0, 0))]), qubits=(Qubit(QuantumRegister(5, 'q'), 0), Qubit(QuantumRegister(5, 'q'), 1), Qubit(QuantumRegister(5, 'q'), 2), Qubit(QuantumRegister(5, 'q'), 3), Qubit(QuantumRegister(5, 'q'), 4)), clbits=())]"
      ]
     },
     "execution_count": 59,
     "metadata": {},
     "output_type": "execute_result"
    }
   ],
   "source": [
    "from qiskit.quantum_info import Pauli\n",
    "from qiskit import QuantumCircuit, qasm3, qasm2\n",
    "\n",
    "c = job._args[0][0].circuit.copy()\n",
    "# paulis = mapped_observables\n",
    "observables = job._args[0][0].observables\n",
    "paulis = {pauli for obs_dict in observables.ravel() for pauli in obs_dict.keys()}\n",
    "for pauli in paulis:\n",
    "    c.save_expectation_value(\n",
    "        Pauli(pauli), qubits=range(c.num_qubits), label=pauli\n",
    "    )"
   ]
  },
  {
   "cell_type": "code",
   "execution_count": 95,
   "id": "a7e41cb4-a516-4834-a7d2-abde8eb098d3",
   "metadata": {},
   "outputs": [
    {
     "ename": "AttributeError",
     "evalue": "This circuit is not scheduled. To schedule it run the circuit through one of the transpiler scheduling passes.",
     "output_type": "error",
     "traceback": [
      "\u001b[0;31m---------------------------------------------------------------------------\u001b[0m",
      "\u001b[0;31mAttributeError\u001b[0m                            Traceback (most recent call last)",
      "Cell \u001b[0;32mIn[95], line 1\u001b[0m\n\u001b[0;32m----> 1\u001b[0m \u001b[43mc\u001b[49m\u001b[38;5;241;43m.\u001b[39;49m\u001b[43mop_start_times\u001b[49m\n",
      "File \u001b[0;32m~/opt/miniconda3/envs/patoka/lib/python3.12/site-packages/qiskit/circuit/quantumcircuit.py:1289\u001b[0m, in \u001b[0;36mQuantumCircuit.op_start_times\u001b[0;34m(self)\u001b[0m\n\u001b[1;32m   1276\u001b[0m \u001b[38;5;250m\u001b[39m\u001b[38;5;124;03m\"\"\"Return a list of operation start times.\u001b[39;00m\n\u001b[1;32m   1277\u001b[0m \n\u001b[1;32m   1278\u001b[0m \u001b[38;5;124;03mThis attribute is enabled once one of scheduling analysis passes\u001b[39;00m\n\u001b[0;32m   (...)\u001b[0m\n\u001b[1;32m   1286\u001b[0m \u001b[38;5;124;03m    AttributeError: When circuit is not scheduled.\u001b[39;00m\n\u001b[1;32m   1287\u001b[0m \u001b[38;5;124;03m\"\"\"\u001b[39;00m\n\u001b[1;32m   1288\u001b[0m \u001b[38;5;28;01mif\u001b[39;00m \u001b[38;5;28mself\u001b[39m\u001b[38;5;241m.\u001b[39m_op_start_times \u001b[38;5;129;01mis\u001b[39;00m \u001b[38;5;28;01mNone\u001b[39;00m:\n\u001b[0;32m-> 1289\u001b[0m     \u001b[38;5;28;01mraise\u001b[39;00m \u001b[38;5;167;01mAttributeError\u001b[39;00m(\n\u001b[1;32m   1290\u001b[0m         \u001b[38;5;124m\"\u001b[39m\u001b[38;5;124mThis circuit is not scheduled. \u001b[39m\u001b[38;5;124m\"\u001b[39m\n\u001b[1;32m   1291\u001b[0m         \u001b[38;5;124m\"\u001b[39m\u001b[38;5;124mTo schedule it run the circuit through one of the transpiler scheduling passes.\u001b[39m\u001b[38;5;124m\"\u001b[39m\n\u001b[1;32m   1292\u001b[0m     )\n\u001b[1;32m   1293\u001b[0m \u001b[38;5;28;01mreturn\u001b[39;00m \u001b[38;5;28mself\u001b[39m\u001b[38;5;241m.\u001b[39m_op_start_times\n",
      "\u001b[0;31mAttributeError\u001b[0m: This circuit is not scheduled. To schedule it run the circuit through one of the transpiler scheduling passes."
     ]
    }
   ],
   "source": [
    "c.op_start_times"
   ]
  },
  {
   "cell_type": "code",
   "execution_count": 9,
   "id": "e41b40ba-4cba-45b1-b78f-3fb100b5785d",
   "metadata": {},
   "outputs": [],
   "source": [
    "res = job.result()"
   ]
  },
  {
   "cell_type": "code",
   "execution_count": 13,
   "id": "37ba3b4a-f878-409d-aecb-027539492d92",
   "metadata": {},
   "outputs": [
    {
     "data": {
      "text/plain": [
       "array([0.00195312, 0.00634766, 0.04541016, 0.04150391, 0.80517578,\n",
       "       0.79003906])"
      ]
     },
     "execution_count": 13,
     "metadata": {},
     "output_type": "execute_result"
    }
   ],
   "source": [
    "res[0].data.evs"
   ]
  },
  {
   "cell_type": "code",
   "execution_count": 14,
   "id": "a429a694-2c6f-42f0-81ce-c8216d044aa3",
   "metadata": {},
   "outputs": [
    {
     "data": {
      "text/plain": [
       "array([0.01562497, 0.01562469, 0.01560888, 0.01561154, 0.00926619,\n",
       "       0.00957901])"
      ]
     },
     "execution_count": 14,
     "metadata": {},
     "output_type": "execute_result"
    }
   ],
   "source": [
    "res[0].data.stds"
   ]
  },
  {
   "cell_type": "code",
   "execution_count": 27,
   "id": "2fef333f-6504-476a-b412-f2f13a2deab4",
   "metadata": {},
   "outputs": [
    {
     "data": {
      "text/plain": [
       "{'target_precision': 0.015625}"
      ]
     },
     "execution_count": 27,
     "metadata": {},
     "output_type": "execute_result"
    }
   ],
   "source": [
    "res[0].metadata"
   ]
  },
  {
   "cell_type": "code",
   "execution_count": 96,
   "id": "08c03357-aea8-4f13-9904-79820666aa92",
   "metadata": {},
   "outputs": [
    {
     "data": {
      "text/plain": [
       "'OPENQASM 3.0;\\ninclude \"stdgates.inc\";\\ngate iswap _gate_q_0, _gate_q_1 {\\n  s _gate_q_0;\\n  s _gate_q_1;\\n  h _gate_q_0;\\n  cx _gate_q_0, _gate_q_1;\\n  cx _gate_q_1, _gate_q_0;\\n  h _gate_q_1;\\n}\\nbit[4] c;\\nqubit[4] q;\\niswap q[0], q[2];\\nc[0] = measure q[0];\\nc[1] = measure q[1];\\nc[2] = measure q[2];\\nc[3] = measure q[3];\\n'"
      ]
     },
     "execution_count": 96,
     "metadata": {},
     "output_type": "execute_result"
    }
   ],
   "source": [
    "qc_a = QuantumCircuit(4, 4)\n",
    "# qc_a.initialize([1/np.sqrt(2), -1/np.sqrt(2)], 0)\n",
    "# matrix = [[0, 0, 0, 1],\n",
    "#         [0, 0, 1, 0],\n",
    "#         [1, 0, 0, 0],\n",
    "#         [0, 1, 0, 0]]\n",
    "# qc_a.x(0)\n",
    "# qc_a.y(0)\n",
    "# qc_a.z(0)\n",
    "qc_a.iswap(0, 2)\n",
    "# qc_a.t(2)\n",
    "# qc_a.tdg(3)\n",
    "# qc_a.cx(3, 2)\n",
    "# qc_a.cy(3, 2)\n",
    "# qc_a.cz(3, 2)\n",
    "# qc_a.cswap(3, 2, 1)\n",
    "# qc_a.pauli('XX', [1, 2])\n",
    "# qc_a.rz(0.2, 1)\n",
    "# qc_a.mcry(0.5, [0, 1], 2, q_ancillae=[3])\n",
    "# qc_a.reset([0,1,2])\n",
    "# qc_a.barrier()\n",
    "# qc_a.cu(0.2, 0.21, 0.34, 0.25, 0, 2)\n",
    "# qc_a.unitary(matrix, [0, 1])\n",
    "qc_a.measure([0, 1, 2, 3], [0, 1, 2, 3])\n",
    "\n",
    "qasm3.dumps(qc_a)\n",
    "# 1. parse\n",
    "# 2. draw\n",
    "# 3. filter-preserve moment"
   ]
  },
  {
   "cell_type": "code",
   "execution_count": 97,
   "id": "e0c7bb01-d9e8-45a7-92d4-32659ae3a8f9",
   "metadata": {},
   "outputs": [],
   "source": [
    "# Convert to an ISA circuit and layout-mapped observables.\n",
    "pm2 = generate_preset_pass_manager(backend=backend, optimization_level=1)\n",
    "qca_trans = pm2.run(qc_a)"
   ]
  },
  {
   "cell_type": "code",
   "execution_count": 101,
   "id": "ebf7c17b-c42c-4584-b6dd-8319e9344dfd",
   "metadata": {},
   "outputs": [
    {
     "data": {
      "text/html": [
       "<pre style=\"word-wrap: normal;white-space: pre;background: #fff0;line-height: 1.1;font-family: &quot;Courier New&quot;,Courier,monospace\">                                                                         »\n",
       "ancilla_0 -> 0 ──────────────────────────────────────────────────────────»\n",
       "                ┌────────┐┌────┐┌─────────┐     ┌───┐           ┌─┐      »\n",
       "      q_0 -> 1 ─┤ Rz(-π) ├┤ √X ├┤ Rz(π/2) ├──■──┤ X ├───────────┤M├──────»\n",
       "               ┌┴────────┤└────┘└─────────┘┌─┴─┐└─┬─┘┌─────────┐└╥┘┌────┐»\n",
       "      q_2 -> 2 ┤ Rz(π/2) ├─────────────────┤ X ├──■──┤ Rz(π/2) ├─╫─┤ √X ├»\n",
       "               └───┬─┬───┘                 └───┘     └─────────┘ ║ └────┘»\n",
       "      q_1 -> 3 ────┤M├───────────────────────────────────────────╫───────»\n",
       "                   └╥┘     ┌─┐                                   ║       »\n",
       "      q_3 -> 4 ─────╫──────┤M├───────────────────────────────────╫───────»\n",
       "                    ║      └╥┘                                   ║       »\n",
       "          c: 4/═════╩═══════╩════════════════════════════════════╩═══════»\n",
       "                    1       3                                    0       »\n",
       "«                             \n",
       "«ancilla_0 -> 0 ──────────────\n",
       "«                             \n",
       "«      q_0 -> 1 ──────────────\n",
       "«               ┌─────────┐┌─┐\n",
       "«      q_2 -> 2 ┤ Rz(π/2) ├┤M├\n",
       "«               └─────────┘└╥┘\n",
       "«      q_1 -> 3 ────────────╫─\n",
       "«                           ║ \n",
       "«      q_3 -> 4 ────────────╫─\n",
       "«                           ║ \n",
       "«          c: 4/════════════╩═\n",
       "«                           2 </pre>"
      ],
      "text/plain": [
       "                                                                         »\n",
       "ancilla_0 -> 0 ──────────────────────────────────────────────────────────»\n",
       "                ┌────────┐┌────┐┌─────────┐     ┌───┐           ┌─┐      »\n",
       "      q_0 -> 1 ─┤ Rz(-π) ├┤ √X ├┤ Rz(π/2) ├──■──┤ X ├───────────┤M├──────»\n",
       "               ┌┴────────┤└────┘└─────────┘┌─┴─┐└─┬─┘┌─────────┐└╥┘┌────┐»\n",
       "      q_2 -> 2 ┤ Rz(π/2) ├─────────────────┤ X ├──■──┤ Rz(π/2) ├─╫─┤ √X ├»\n",
       "               └───┬─┬───┘                 └───┘     └─────────┘ ║ └────┘»\n",
       "      q_1 -> 3 ────┤M├───────────────────────────────────────────╫───────»\n",
       "                   └╥┘     ┌─┐                                   ║       »\n",
       "      q_3 -> 4 ─────╫──────┤M├───────────────────────────────────╫───────»\n",
       "                    ║      └╥┘                                   ║       »\n",
       "          c: 4/═════╩═══════╩════════════════════════════════════╩═══════»\n",
       "                    1       3                                    0       »\n",
       "«                             \n",
       "«ancilla_0 -> 0 ──────────────\n",
       "«                             \n",
       "«      q_0 -> 1 ──────────────\n",
       "«               ┌─────────┐┌─┐\n",
       "«      q_2 -> 2 ┤ Rz(π/2) ├┤M├\n",
       "«               └─────────┘└╥┘\n",
       "«      q_1 -> 3 ────────────╫─\n",
       "«                           ║ \n",
       "«      q_3 -> 4 ────────────╫─\n",
       "«                           ║ \n",
       "«          c: 4/════════════╩═\n",
       "«                           2 "
      ]
     },
     "execution_count": 101,
     "metadata": {},
     "output_type": "execute_result"
    }
   ],
   "source": [
    "qca_trans.draw()"
   ]
  },
  {
   "cell_type": "code",
   "execution_count": 102,
   "id": "a3114839-43d0-48d9-91f6-e473d0eb28e4",
   "metadata": {},
   "outputs": [
    {
     "data": {
      "text/html": [
       "<pre style=\"word-wrap: normal;white-space: pre;background: #fff0;line-height: 1.1;font-family: &quot;Courier New&quot;,Courier,monospace\">     ┌────────┐   ┌─┐   \n",
       "q_0: ┤0       ├───┤M├───\n",
       "     │        │┌─┐└╥┘   \n",
       "q_1: ┤  Iswap ├┤M├─╫────\n",
       "     │        │└╥┘ ║ ┌─┐\n",
       "q_2: ┤1       ├─╫──╫─┤M├\n",
       "     └──┬─┬───┘ ║  ║ └╥┘\n",
       "q_3: ───┤M├─────╫──╫──╫─\n",
       "        └╥┘     ║  ║  ║ \n",
       "c: 4/════╩══════╩══╩══╩═\n",
       "         3      1  0  2 </pre>"
      ],
      "text/plain": [
       "     ┌────────┐   ┌─┐   \n",
       "q_0: ┤0       ├───┤M├───\n",
       "     │        │┌─┐└╥┘   \n",
       "q_1: ┤  Iswap ├┤M├─╫────\n",
       "     │        │└╥┘ ║ ┌─┐\n",
       "q_2: ┤1       ├─╫──╫─┤M├\n",
       "     └──┬─┬───┘ ║  ║ └╥┘\n",
       "q_3: ───┤M├─────╫──╫──╫─\n",
       "        └╥┘     ║  ║  ║ \n",
       "c: 4/════╩══════╩══╩══╩═\n",
       "         3      1  0  2 "
      ]
     },
     "execution_count": 102,
     "metadata": {},
     "output_type": "execute_result"
    }
   ],
   "source": [
    "qc_a.draw()"
   ]
  },
  {
   "cell_type": "code",
   "execution_count": null,
   "id": "1ae18e26-87f5-421d-80ff-b63b1bc1a269",
   "metadata": {},
   "outputs": [],
   "source": []
  }
 ],
 "metadata": {
  "kernelspec": {
   "display_name": "Python 3 (ipykernel)",
   "language": "python",
   "name": "python3"
  },
  "language_info": {
   "codemirror_mode": {
    "name": "ipython",
    "version": 3
   },
   "file_extension": ".py",
   "mimetype": "text/x-python",
   "name": "python",
   "nbconvert_exporter": "python",
   "pygments_lexer": "ipython3",
   "version": "3.12.3"
  }
 },
 "nbformat": 4,
 "nbformat_minor": 5
}
