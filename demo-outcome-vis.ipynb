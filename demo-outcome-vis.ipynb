{
 "cells": [
  {
   "cell_type": "markdown",
   "id": "fbff441a-ba30-4262-919d-575171965d8b",
   "metadata": {},
   "source": [
    "# Hypothetical Error-adjusted Measurement Outcome Demo\n",
    "\n",
    "Note: the demo will not appear if you are looking at this on github because the widgets are dynamically created.\n",
    "Note: this repo gives resampling counts of 100 for time constraints, but typically the sample count of more than 10,000 is more reliable.\n",
    "\n",
    "## Imports and setup"
   ]
  },
  {
   "cell_type": "code",
   "execution_count": 1,
   "id": "cf605c73-eb55-4fa8-8f16-eff1e2c663fe",
   "metadata": {},
   "outputs": [],
   "source": [
    "# qiskit circuit & machine\n",
    "from qiskit import QuantumCircuit\n",
    "import qiskit_aer\n",
    "from qiskit_ibm_runtime.fake_provider import FakeVigo\n",
    "from qiskit.circuit.library import QFT\n",
    "from qiskit.transpiler.preset_passmanagers import generate_preset_pass_manager\n",
    "\n",
    "# widget-related\n",
    "import anywidget\n",
    "import traitlets\n",
    "\n",
    "# widget function\n",
    "from state_uncertainty_vis import drawStateUncertainty, uncertainty_design\n",
    "import numpy as np\n",
    "import pandas as pd\n",
    "\n",
    "# host setting for dev mode\n",
    "_SS_ = \"http://localhost:5175/\"\n",
    "\n",
    "class UncertaintyVis(anywidget.AnyWidget):\n",
    "    _esm = _SS_ + \"index.js?anywidget\"\n",
    "    vis_data = traitlets.Unicode().tag(sync=True)\n",
    "    design = traitlets.Unicode().tag(sync=True)\n",
    "    mode = traitlets.Unicode(\"uncertainty\").tag(sync=True)\n",
    "\n",
    "def getUncertaintyVis(job, transpiled, design={}, bootstrap=False, sampling_counts=10000, sample_size=None):\n",
    "    prep = drawStateUncertainty(job, transpiled, bootstrap=bootstrap, sampling_counts=sampling_counts, sample_size=sample_size)\n",
    "    vis_data = prep.toJSON()\n",
    "    _design = uncertainty_design(design)\n",
    "    __design = _design.toJSON()\n",
    "    vis = UncertaintyVis(vis_data=vis_data, design=__design)\n",
    "    return (vis, prep, _design)"
   ]
  },
  {
   "cell_type": "markdown",
   "id": "1e9633ec-f8c8-4dfc-9a5a-6bb10c0915b1",
   "metadata": {},
   "source": [
    "## Write and run a circuit"
   ]
  },
  {
   "cell_type": "code",
   "execution_count": 2,
   "id": "b94d91fb-a920-4fba-8e8a-af16cd491c30",
   "metadata": {},
   "outputs": [],
   "source": [
    "qft = QFT(3).to_gate()\n",
    "\n",
    "qcb = QuantumCircuit(3, 3)\n",
    "qcb.h([0, 1, 2])\n",
    "qcb.append(qft, [0, 1, 2])\n",
    "qcb.measure([0,1,2], [0,1,2])\n",
    "\n",
    "optimization_level = 1\n",
    "backend = qiskit_aer.AerSimulator.from_backend(FakeVigo())\n",
    "pass_manager = generate_preset_pass_manager(backend=backend, optimization_level=optimization_level, seed_transpiler=1)\n",
    "\n",
    "qcb_trans = pass_manager.run(qcb)\n",
    "job = backend.run(qcb_trans, shots=1000)"
   ]
  },
  {
   "cell_type": "markdown",
   "id": "5c9af0f0-8351-4ed0-9f49-512c8096a192",
   "metadata": {},
   "source": [
    "## Load a visualization"
   ]
  },
  {
   "cell_type": "code",
   "execution_count": 3,
   "id": "add2fd49-7393-4c9a-9cb2-791b8d7e3083",
   "metadata": {},
   "outputs": [
    {
     "data": {
      "application/vnd.jupyter.widget-view+json": {
       "model_id": "50b81dc6df50454e93415b2498053cb8",
       "version_major": 2,
       "version_minor": 0
      },
      "text/plain": [
       "  0%|          | 0/100000 [00:00<?, ?it/s]"
      ]
     },
     "metadata": {},
     "output_type": "display_data"
    }
   ],
   "source": [
    "(unc, dt, design) = getUncertaintyVis(job, qcb_trans, design={\"mark\": \"bar\", \"direction\": \"vertical\"}, sampling_counts=100)"
   ]
  },
  {
   "cell_type": "code",
   "execution_count": 4,
   "id": "07b83e21-dcef-4b74-8b71-444dcb53f7d4",
   "metadata": {},
   "outputs": [
    {
     "data": {
      "application/vnd.jupyter.widget-view+json": {
       "model_id": "2b90f3eb53244c4ebb9d5eed25c70f62",
       "version_major": 2,
       "version_minor": 1
      },
      "text/plain": [
       "UncertaintyVis(design='{\"mark\": \"bar\", \"direction\": \"vertical\"}', vis_data='{\"data\": {\"111\": {\"measure\": 3, \"p…"
      ]
     },
     "execution_count": 4,
     "metadata": {},
     "output_type": "execute_result"
    }
   ],
   "source": [
    "unc"
   ]
  },
  {
   "cell_type": "markdown",
   "id": "579a9583-98cf-461f-a416-9ed29a8cd773",
   "metadata": {},
   "source": [
    "## Write and run a circuit (Case 2)"
   ]
  },
  {
   "cell_type": "code",
   "execution_count": 5,
   "id": "b400a299-814c-415e-82e6-70f1b48fd48f",
   "metadata": {},
   "outputs": [],
   "source": [
    "qft = QFT(3).to_gate()\n",
    "\n",
    "qcx = QuantumCircuit(3, 3)\n",
    "qcx.append(qft, [0, 1, 2])\n",
    "qcx.measure([0,1,2], [0,1,2])\n",
    "\n",
    "qcx_trans = pass_manager.run(qcx)\n",
    "job = backend.run(qcx_trans, shots=1000)"
   ]
  },
  {
   "cell_type": "markdown",
   "id": "4b5d3681-8c4a-4add-b3be-fb80dae76370",
   "metadata": {},
   "source": [
    "## Load a visualization"
   ]
  },
  {
   "cell_type": "code",
   "execution_count": 6,
   "id": "2b0924f7-ea15-45be-9dfc-315abe30b085",
   "metadata": {},
   "outputs": [
    {
     "data": {
      "application/vnd.jupyter.widget-view+json": {
       "model_id": "2834b88b57bf4328baa4090ad77f04e6",
       "version_major": 2,
       "version_minor": 0
      },
      "text/plain": [
       "  0%|          | 0/100000 [00:00<?, ?it/s]"
      ]
     },
     "metadata": {},
     "output_type": "display_data"
    }
   ],
   "source": [
    "(unc2, dt2, design2) = getUncertaintyVis(job, qcx_trans, design={\"mark\": \"bar\", \"direction\": \"vertical\"}, sampling_counts=100)"
   ]
  },
  {
   "cell_type": "code",
   "execution_count": 7,
   "id": "b0c938af-635c-4da2-aa4d-cda050d342e9",
   "metadata": {},
   "outputs": [
    {
     "data": {
      "application/vnd.jupyter.widget-view+json": {
       "model_id": "305c5ae301c646ff814262f922456da7",
       "version_major": 2,
       "version_minor": 1
      },
      "text/plain": [
       "UncertaintyVis(design='{\"mark\": \"bar\", \"direction\": \"vertical\"}', vis_data='{\"data\": {\"110\": {\"measure\": 125, …"
      ]
     },
     "execution_count": 7,
     "metadata": {},
     "output_type": "execute_result"
    }
   ],
   "source": [
    "unc2"
   ]
  }
 ],
 "metadata": {
  "kernelspec": {
   "display_name": "Python 3 (ipykernel)",
   "language": "python",
   "name": "python3"
  },
  "language_info": {
   "codemirror_mode": {
    "name": "ipython",
    "version": 3
   },
   "file_extension": ".py",
   "mimetype": "text/x-python",
   "name": "python",
   "nbconvert_exporter": "python",
   "pygments_lexer": "ipython3",
   "version": "3.12.3"
  }
 },
 "nbformat": 4,
 "nbformat_minor": 5
}
