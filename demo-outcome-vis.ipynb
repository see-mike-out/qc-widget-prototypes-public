{
 "cells": [
  {
   "cell_type": "markdown",
   "id": "fbff441a-ba30-4262-919d-575171965d8b",
   "metadata": {},
   "source": [
    "# Hypothetical Error-adjusted Measurement Outcome Demo\n",
    "\n",
    "Note: the demo will not appear if you are looking at this on github because the widgets are dynamically created.\n",
    "\n",
    "## Imports and setup"
   ]
  },
  {
   "cell_type": "code",
   "execution_count": 1,
   "id": "cf605c73-eb55-4fa8-8f16-eff1e2c663fe",
   "metadata": {},
   "outputs": [],
   "source": [
    "# qiskit circuit & machine\n",
    "from qiskit import QuantumCircuit\n",
    "import qiskit_aer\n",
    "from qiskit_ibm_runtime.fake_provider import FakeVigo\n",
    "from qiskit.circuit.library import QFT\n",
    "from qiskit.transpiler.preset_passmanagers import generate_preset_pass_manager\n",
    "\n",
    "# widget-related\n",
    "import anywidget\n",
    "import traitlets\n",
    "\n",
    "# widget function\n",
    "from state_uncertainty_vis import drawStateUncertainty, uncertainty_design\n",
    "import numpy as np\n",
    "import pandas as pd\n",
    "\n",
    "# host setting for dev mode\n",
    "_SS_ = \"http://localhost:5175/\"\n",
    "\n",
    "class UncertaintyVis(anywidget.AnyWidget):\n",
    "    _esm = _SS_ + \"index.js?anywidget\"\n",
    "    vis_data = traitlets.Unicode().tag(sync=True)\n",
    "    design = traitlets.Unicode().tag(sync=True)\n",
    "    mode = traitlets.Unicode(\"uncertainty\").tag(sync=True)\n",
    "\n",
    "def getUncertaintyVis(job, transpiled, design={}, bootstrap=False, sampling_counts=10000, sample_size=None):\n",
    "    prep = drawStateUncertainty(job, transpiled, bootstrap=bootstrap, sampling_counts=sampling_counts, sample_size=sample_size)\n",
    "    vis_data = prep.toJSON()\n",
    "    _design = uncertainty_design(design)\n",
    "    __design = _design.toJSON()\n",
    "    vis = UncertaintyVis(vis_data=vis_data, design=__design)\n",
    "    return (vis, prep, _design)"
   ]
  },
  {
   "cell_type": "markdown",
   "id": "1e9633ec-f8c8-4dfc-9a5a-6bb10c0915b1",
   "metadata": {},
   "source": [
    "## Write and run a circuit"
   ]
  },
  {
   "cell_type": "code",
   "execution_count": 2,
   "id": "b94d91fb-a920-4fba-8e8a-af16cd491c30",
   "metadata": {},
   "outputs": [],
   "source": [
    "qft = QFT(3).to_gate()\n",
    "\n",
    "qcb = QuantumCircuit(3, 3)\n",
    "qcb.h([0, 1, 2])\n",
    "qcb.append(qft, [0, 1, 2])\n",
    "qcb.measure_all()\n",
    "\n",
    "optimization_level = 1\n",
    "backend = qiskit_aer.AerSimulator.from_backend(FakeVigo())\n",
    "pass_manager = generate_preset_pass_manager(backend=backend, optimization_level=optimization_level, seed_transpiler=1)\n",
    "\n",
    "qcb_trans = pass_manager.run(qcb)\n",
    "job = backend.run(qcb_trans, shots=1000)"
   ]
  },
  {
   "cell_type": "markdown",
   "id": "5c9af0f0-8351-4ed0-9f49-512c8096a192",
   "metadata": {},
   "source": [
    "## Load a visualization"
   ]
  },
  {
   "cell_type": "code",
   "execution_count": 3,
   "id": "add2fd49-7393-4c9a-9cb2-791b8d7e3083",
   "metadata": {},
   "outputs": [
    {
     "data": {
      "application/vnd.jupyter.widget-view+json": {
       "model_id": "9b97e502f735493187c6eaf77cd5d457",
       "version_major": 2,
       "version_minor": 0
      },
      "text/plain": [
       "  0%|          | 0/100000 [00:00<?, ?it/s]"
      ]
     },
     "metadata": {},
     "output_type": "display_data"
    }
   ],
   "source": [
    "(unc, dt, design) = getUncertaintyVis(job, qcb_trans, design={\"mark\": \"bar\", \"direction\": \"vertical\"}, sampling_counts=100)"
   ]
  },
  {
   "cell_type": "code",
   "execution_count": 4,
   "id": "07b83e21-dcef-4b74-8b71-444dcb53f7d4",
   "metadata": {},
   "outputs": [
    {
     "data": {
      "application/vnd.jupyter.widget-view+json": {
       "model_id": "ccb8462394cb4c3188fcea221411a61b",
       "version_major": 2,
       "version_minor": 1
      },
      "text/plain": [
       "UncertaintyVis(design='{\"mark\": \"bar\", \"direction\": \"vertical\"}', vis_data='{\"data\": {\"011 000\": {\"measure\": 1…"
      ]
     },
     "execution_count": 4,
     "metadata": {},
     "output_type": "execute_result"
    }
   ],
   "source": [
    "unc"
   ]
  }
 ],
 "metadata": {
  "kernelspec": {
   "display_name": "Python 3 (ipykernel)",
   "language": "python",
   "name": "python3"
  },
  "language_info": {
   "codemirror_mode": {
    "name": "ipython",
    "version": 3
   },
   "file_extension": ".py",
   "mimetype": "text/x-python",
   "name": "python",
   "nbconvert_exporter": "python",
   "pygments_lexer": "ipython3",
   "version": "3.12.3"
  }
 },
 "nbformat": 4,
 "nbformat_minor": 5
}
