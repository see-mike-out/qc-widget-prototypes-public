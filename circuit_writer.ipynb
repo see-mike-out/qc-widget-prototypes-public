{
 "cells": [
  {
   "cell_type": "code",
   "execution_count": 1,
   "id": "00c00df8-c32f-4707-ac69-5e6fec3b27d8",
   "metadata": {},
   "outputs": [],
   "source": [
    "# qiskit circuit & machine\n",
    "from qiskit import QuantumCircuit\n",
    "from qiskit.transpiler.preset_passmanagers import generate_preset_pass_manager\n",
    "import qiskit_aer\n",
    "from qiskit_ibm_runtime.fake_provider import FakeVigo\n",
    "\n",
    "# widget-related\n",
    "import anywidget\n",
    "import traitlets\n",
    "\n",
    "# host setting for dev mode\n",
    "_SS_ = \"http://localhost:5175/\""
   ]
  },
  {
   "cell_type": "code",
   "execution_count": 2,
   "id": "ffbfc575-21b3-45ae-b2f6-a344555ecff0",
   "metadata": {},
   "outputs": [],
   "source": [
    "class CircuitWriter(anywidget.AnyWidget):\n",
    "    _esm = _SS_ + \"index.js?anywidget\"\n",
    "    circ_code = traitlets.Unicode().tag(sync=True)\n",
    "    mode = traitlets.Unicode(\"write\").tag(sync=True)\n",
    "\n",
    "def getCircuitWriter():\n",
    "    circuit_code = \"\"\n",
    "    return CircuitWriter(circ_code=circuit_code)"
   ]
  },
  {
   "cell_type": "code",
   "execution_count": 3,
   "id": "b21afe10-3ad0-411d-9f31-c0a77c956fa6",
   "metadata": {},
   "outputs": [],
   "source": [
    "w = getCircuitWriter()"
   ]
  },
  {
   "cell_type": "code",
   "execution_count": 4,
   "id": "c0e7cbfd-be63-46fa-b250-7a75042565af",
   "metadata": {},
   "outputs": [
    {
     "data": {
      "application/vnd.jupyter.widget-view+json": {
       "model_id": "87b78889fc094b1f94cc8e4c4f9f7122",
       "version_major": 2,
       "version_minor": 1
      },
      "text/plain": [
       "CircuitWriter()"
      ]
     },
     "execution_count": 4,
     "metadata": {},
     "output_type": "execute_result"
    }
   ],
   "source": [
    "w"
   ]
  },
  {
   "cell_type": "code",
   "execution_count": 5,
   "id": "0c81628e-9841-4407-9c06-fbdc44891d09",
   "metadata": {},
   "outputs": [
    {
     "data": {
      "text/plain": [
       "' >> >>'"
      ]
     },
     "execution_count": 5,
     "metadata": {},
     "output_type": "execute_result"
    }
   ],
   "source": [
    "w.circ_code"
   ]
  },
  {
   "cell_type": "code",
   "execution_count": null,
   "id": "cecda3c3-6b6e-44f2-baeb-e03906277c2b",
   "metadata": {},
   "outputs": [],
   "source": []
  }
 ],
 "metadata": {
  "kernelspec": {
   "display_name": "Python 3 (ipykernel)",
   "language": "python",
   "name": "python3"
  },
  "language_info": {
   "codemirror_mode": {
    "name": "ipython",
    "version": 3
   },
   "file_extension": ".py",
   "mimetype": "text/x-python",
   "name": "python",
   "nbconvert_exporter": "python",
   "pygments_lexer": "ipython3",
   "version": "3.12.3"
  }
 },
 "nbformat": 4,
 "nbformat_minor": 5
}
