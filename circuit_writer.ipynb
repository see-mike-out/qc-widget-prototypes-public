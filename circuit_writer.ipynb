{
 "cells": [
  {
   "cell_type": "code",
   "execution_count": 2,
   "id": "00c00df8-c32f-4707-ac69-5e6fec3b27d8",
   "metadata": {},
   "outputs": [],
   "source": [
    "# qiskit circuit & machine\n",
    "from qiskit import QuantumCircuit\n",
    "from qiskit.transpiler.preset_passmanagers import generate_preset_pass_manager\n",
    "import qiskit_aer\n",
    "from qiskit_ibm_runtime.fake_provider import FakeVigo\n",
    "\n",
    "# widget-related\n",
    "import anywidget\n",
    "import traitlets\n",
    "\n",
    "# host setting for dev mode\n",
    "_SS_ = \"http://localhost:5175/\"\n",
    "\n",
    "from machine_data_prep import getMachineMetaInfo\n",
    "import json"
   ]
  },
  {
   "cell_type": "code",
   "execution_count": 3,
   "id": "ffbfc575-21b3-45ae-b2f6-a344555ecff0",
   "metadata": {},
   "outputs": [],
   "source": [
    "class CircuitWriter(anywidget.AnyWidget):\n",
    "    _esm = _SS_ + \"index.js?anywidget\"\n",
    "    machine = traitlets.Unicode().tag(sync=True)\n",
    "    circ_code = traitlets.Unicode().tag(sync=True)\n",
    "    mode = traitlets.Unicode(\"write\").tag(sync=True)\n",
    "\n",
    "def getCircuitWriter(backend=None):\n",
    "    machine_json = \"\"\n",
    "    if backend is not None:\n",
    "        machine = getMachineMetaInfo(backend)\n",
    "        machine_json = json.dumps(machine)\n",
    "    circ_code = \"\"\n",
    "    return CircuitWriter(circ_code=circ_code, machine=machine_json)"
   ]
  },
  {
   "cell_type": "code",
   "execution_count": 4,
   "id": "a9dcece2-b16a-4e40-990f-4f9ce401dd82",
   "metadata": {},
   "outputs": [],
   "source": [
    "w = getCircuitWriter()"
   ]
  },
  {
   "cell_type": "code",
   "execution_count": 5,
   "id": "c0e7cbfd-be63-46fa-b250-7a75042565af",
   "metadata": {},
   "outputs": [
    {
     "data": {
      "application/vnd.jupyter.widget-view+json": {
       "model_id": "cf5ca7c1d35e41558faa46e7fc3dd375",
       "version_major": 2,
       "version_minor": 1
      },
      "text/plain": [
       "CircuitWriter()"
      ]
     },
     "execution_count": 5,
     "metadata": {},
     "output_type": "execute_result"
    }
   ],
   "source": [
    "w"
   ]
  },
  {
   "cell_type": "code",
   "execution_count": 13,
   "id": "0c81628e-9841-4407-9c06-fbdc44891d09",
   "metadata": {},
   "outputs": [
    {
     "name": "stdout",
     "output_type": "stream",
     "text": [
      "from qiskit import QuantumCircuit\n",
      "from qiskit.transpiler.preset_passmanagers import generate_preset_pass_manager\n",
      "import qiskit_aer\n",
      "from qiskit_ibm_runtime.fake_provider import FakeVigo\n",
      "from revkit import netlist, oracle_synth, truth_table\n",
      "import revkit.export.qiskit\n",
      "from qiskit.quantum_info import SparsePauliOp\n",
      "from qiskit_ibm_runtime import EstimatorV2 as Estimator\n",
      "\n",
      "circuit = QuantumCircuit(3, 3)\n",
      "\n",
      "# Superposition\n",
      "circuit.h(0)\n",
      "circuit.h(1)\n",
      "\n",
      "# Boolean Truth Table Function Oracle\n",
      "tt_bool_1 = revkit.truth_table.from_expression(\"(ab)\")\n",
      "oracle_1 = revkit.oracle_synth(tt_bool_1)\n",
      "oracle_gate_1 = oracle_1.to_qiskit().to_gate()\n",
      "circuit.append(oracle_gate_1, [0, 1, 2])\n",
      "\n",
      "# Pauli Observables\n",
      "observables_labels = [\"IXYII\", \"ZXYII\"]\n",
      "observables = [SparsePauliOp(label) for label in observables_labels]\n",
      "mapped_observables = [observable.apply_layout(circuit.layout) for observable in observables]\n",
      "\n",
      "# backend and optimizer\n",
      "optimization_level = 1\n",
      "backend = qiskit_aer.AerSimulator.from_backend(FakeVigo())\n",
      "pass_manager = generate_preset_pass_manager(backend=backend, optimization_level=optimization_level)\n",
      "\n",
      "# pass manager and run\n",
      "estimator = Estimator(backend)\n",
      "transpiled = pass_manager.run(circuit)\n",
      "job = estimator.run([(transpiled, mapped_observables)])\n",
      "\n",
      "\n"
     ]
    }
   ],
   "source": [
    "print(w.circ_code)"
   ]
  },
  {
   "cell_type": "code",
   "execution_count": null,
   "id": "cecda3c3-6b6e-44f2-baeb-e03906277c2b",
   "metadata": {},
   "outputs": [],
   "source": []
  }
 ],
 "metadata": {
  "kernelspec": {
   "display_name": "Python 3 (ipykernel)",
   "language": "python",
   "name": "python3"
  },
  "language_info": {
   "codemirror_mode": {
    "name": "ipython",
    "version": 3
   },
   "file_extension": ".py",
   "mimetype": "text/x-python",
   "name": "python",
   "nbconvert_exporter": "python",
   "pygments_lexer": "ipython3",
   "version": "3.12.3"
  }
 },
 "nbformat": 4,
 "nbformat_minor": 5
}
