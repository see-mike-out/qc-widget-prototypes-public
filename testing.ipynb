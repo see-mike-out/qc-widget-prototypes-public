{
 "cells": [
  {
   "cell_type": "code",
   "execution_count": 18,
   "id": "afabcb7e-4e16-416f-abe8-bc7584f9ab3a",
   "metadata": {},
   "outputs": [],
   "source": [
    "# setups\n",
    "import anywidget\n",
    "import traitlets\n",
    "import pathlib\n",
    "from qiskit.circuit.library import HGate\n",
    "from qiskit import QuantumCircuit, qasm3, qasm2\n",
    "import numpy as np\n",
    "\n",
    "_SS_ = \"http://localhost:5175/\"\n",
    "\n",
    "# class SvelteCounter(anywidget.AnyWidget):\n",
    "#     _esm = _SS_ + \"index.js\"\n",
    "#     value = traitlets.Int().tag(sync=True)\n",
    "    \n",
    "# SvelteCounter(value=4)"
   ]
  },
  {
   "cell_type": "code",
   "execution_count": 19,
   "id": "10067556-396f-44ef-845a-82f69ef0edea",
   "metadata": {},
   "outputs": [],
   "source": [
    "class CircuitViewer(anywidget.AnyWidget):\n",
    "    _esm = _SS_ + \"index.js?anywidget\"\n",
    "    # _esm = pathlib.Path(\"index.js\")\n",
    "    circ = traitlets.Unicode().tag(sync=True)\n",
    "\n",
    "def getCircuitViewer(circuit):\n",
    "    circuit_str = qasm3.dumps(circuit)\n",
    "    return CircuitViewer(circ=circuit_str)"
   ]
  },
  {
   "cell_type": "code",
   "execution_count": 20,
   "id": "675fcfc8-fe6f-4582-a0d9-960fa6a0ee7c",
   "metadata": {},
   "outputs": [
    {
     "data": {
      "text/plain": [
       "'OPENQASM 3.0;\\ninclude \"stdgates.inc\";\\ngate iswap _gate_q_0, _gate_q_1 {\\n  s _gate_q_0;\\n  s _gate_q_1;\\n  h _gate_q_0;\\n  cx _gate_q_0, _gate_q_1;\\n  cx _gate_q_1, _gate_q_0;\\n  h _gate_q_1;\\n}\\nbit[4] c;\\nqubit[4] q;\\niswap q[0], q[2];\\nbarrier q[0], q[1], q[2], q[3];\\nc[0] = measure q[0];\\nc[1] = measure q[1];\\nc[2] = measure q[2];\\nc[3] = measure q[3];\\n'"
      ]
     },
     "execution_count": 20,
     "metadata": {},
     "output_type": "execute_result"
    }
   ],
   "source": [
    "qc_a = QuantumCircuit(4, 4)\n",
    "# qc_a.initialize([1/np.sqrt(2), -1/np.sqrt(2)], 0)\n",
    "# matrix = [[0, 0, 0, 1],\n",
    "#         [0, 0, 1, 0],\n",
    "#         [1, 0, 0, 0],\n",
    "#         [0, 1, 0, 0]]\n",
    "# qc_a.x(0)\n",
    "# qc_a.y(0)\n",
    "# qc_a.z(0)\n",
    "qc_a.iswap(0, 2)\n",
    "# qc_a.t(2)\n",
    "# qc_a.tdg(3)\n",
    "# qc_a.cx(3, 2)\n",
    "# qc_a.cy(3, 2)\n",
    "# qc_a.cz(3, 2)\n",
    "# qc_a.cswap(3, 2, 1)\n",
    "# qc_a.pauli('XX', [1, 2])\n",
    "# qc_a.rz(0.2, 1)\n",
    "# qc_a.mcry(0.5, [0, 1], 2, q_ancillae=[3])\n",
    "# qc_a.reset([0,1,2])\n",
    "qc_a.barrier()\n",
    "# qc_a.cu(0.2, 0.21, 0.34, 0.25, 0, 2)\n",
    "# qc_a.unitary(matrix, [0, 1])\n",
    "qc_a.measure([0, 1, 2, 3], [0, 1, 2, 3])\n",
    "\n",
    "qasm3.dumps(qc_a)\n",
    "# 1. parse\n",
    "# 2. draw\n",
    "# 3. filter-preserve moment"
   ]
  },
  {
   "cell_type": "code",
   "execution_count": 21,
   "id": "448a983b-edbd-4f33-83a8-a80da5b20f36",
   "metadata": {},
   "outputs": [
    {
     "data": {
      "text/html": [
       "<pre style=\"word-wrap: normal;white-space: pre;background: #fff0;line-height: 1.1;font-family: &quot;Courier New&quot;,Courier,monospace\">     ┌────────┐ ░ ┌─┐         \n",
       "q_0: ┤0       ├─░─┤M├─────────\n",
       "     │        │ ░ └╥┘┌─┐      \n",
       "q_1: ┤  Iswap ├─░──╫─┤M├──────\n",
       "     │        │ ░  ║ └╥┘┌─┐   \n",
       "q_2: ┤1       ├─░──╫──╫─┤M├───\n",
       "     └────────┘ ░  ║  ║ └╥┘┌─┐\n",
       "q_3: ───────────░──╫──╫──╫─┤M├\n",
       "                ░  ║  ║  ║ └╥┘\n",
       "c: 4/══════════════╩══╩══╩══╩═\n",
       "                   0  1  2  3 </pre>"
      ],
      "text/plain": [
       "     ┌────────┐ ░ ┌─┐         \n",
       "q_0: ┤0       ├─░─┤M├─────────\n",
       "     │        │ ░ └╥┘┌─┐      \n",
       "q_1: ┤  Iswap ├─░──╫─┤M├──────\n",
       "     │        │ ░  ║ └╥┘┌─┐   \n",
       "q_2: ┤1       ├─░──╫──╫─┤M├───\n",
       "     └────────┘ ░  ║  ║ └╥┘┌─┐\n",
       "q_3: ───────────░──╫──╫──╫─┤M├\n",
       "                ░  ║  ║  ║ └╥┘\n",
       "c: 4/══════════════╩══╩══╩══╩═\n",
       "                   0  1  2  3 "
      ]
     },
     "execution_count": 21,
     "metadata": {},
     "output_type": "execute_result"
    }
   ],
   "source": [
    "qc_a.draw()"
   ]
  },
  {
   "cell_type": "code",
   "execution_count": 24,
   "id": "b2317524-5b88-4df7-9783-81904be95603",
   "metadata": {},
   "outputs": [
    {
     "data": {
      "application/vnd.jupyter.widget-view+json": {
       "model_id": "97671307e33c4c8d8e697931bdc8f98c",
       "version_major": 2,
       "version_minor": 1
      },
      "text/plain": [
       "CircuitViewer(circ='OPENQASM 3.0;\\ninclude \"stdgates.inc\";\\ngate iswap _gate_q_0, _gate_q_1 {\\n  s _gate_q_0;\\…"
      ]
     },
     "execution_count": 24,
     "metadata": {},
     "output_type": "execute_result"
    }
   ],
   "source": [
    "getCircuitViewer(circuit=qc_a)"
   ]
  },
  {
   "cell_type": "code",
   "execution_count": null,
   "id": "43d19f41-8b2f-457d-8a73-7b7875e97291",
   "metadata": {},
   "outputs": [],
   "source": []
  }
 ],
 "metadata": {
  "kernelspec": {
   "display_name": "Python 3 (ipykernel)",
   "language": "python",
   "name": "python3"
  },
  "language_info": {
   "codemirror_mode": {
    "name": "ipython",
    "version": 3
   },
   "file_extension": ".py",
   "mimetype": "text/x-python",
   "name": "python",
   "nbconvert_exporter": "python",
   "pygments_lexer": "ipython3",
   "version": "3.12.3"
  }
 },
 "nbformat": 4,
 "nbformat_minor": 5
}
