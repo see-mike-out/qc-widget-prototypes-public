{
 "cells": [
  {
   "cell_type": "code",
   "execution_count": 1,
   "id": "8499e00a-0c8b-4471-aa4f-e6790f4ef6a3",
   "metadata": {},
   "outputs": [],
   "source": [
    "# qiskit circuit & machine\n",
    "from qiskit import QuantumCircuit\n",
    "from qiskit.transpiler.preset_passmanagers import generate_preset_pass_manager\n",
    "import qiskit_aer\n",
    "from qiskit_ibm_runtime.fake_provider import FakeVigo\n",
    "\n",
    "# widget-related\n",
    "import anywidget\n",
    "import traitlets\n",
    "\n",
    "# widget function\n",
    "from circuit_data_prep import prepareData\n",
    "\n",
    "# host setting for dev mode\n",
    "_SS_ = \"http://localhost:5175/\""
   ]
  },
  {
   "cell_type": "code",
   "execution_count": 2,
   "id": "cf60ca74-7593-4fc6-8108-70e2305fd0cd",
   "metadata": {},
   "outputs": [],
   "source": [
    "class CircuitViewer(anywidget.AnyWidget):\n",
    "    _esm = _SS_ + \"index.js?anywidget\"\n",
    "    circ = traitlets.Unicode().tag(sync=True)\n",
    "    mode = traitlets.Unicode(\"view\").tag(sync=True)\n",
    "\n",
    "def getCircuitViewer(circuit, pass_manager, backend):\n",
    "    prep = prepareData(circuit, pass_manager, backend)\n",
    "    circuit_str = prep.toJSON()\n",
    "    return CircuitViewer(circ=circuit_str)"
   ]
  },
  {
   "cell_type": "code",
   "execution_count": 3,
   "id": "370bf8a7-d543-4f8e-aeae-290842088c63",
   "metadata": {},
   "outputs": [
    {
     "data": {
      "application/vnd.jupyter.widget-view+json": {
       "model_id": "6bdfeffc0d86431e913bb08dfbc5dac0",
       "version_major": 2,
       "version_minor": 1
      },
      "text/plain": [
       "CircuitViewer(circ='{\"original\": {\"layers\": [{\"operations\": [{\"gate\": \"iswap\", \"num_qubits\": 2, \"num_clbits\": …"
      ]
     },
     "execution_count": 3,
     "metadata": {},
     "output_type": "execute_result"
    }
   ],
   "source": [
    "qc_a = QuantumCircuit(4, 4)\n",
    "# qc_a.ccx(0, 1, 3)\n",
    "qc_a.iswap(0, 1)\n",
    "qc_a.measure([0, 1, 2, 3], [0, 1, 2, 3])\n",
    "\n",
    "optimization_level = 1\n",
    "backend = qiskit_aer.AerSimulator.from_backend(FakeVigo())\n",
    "pm2 = generate_preset_pass_manager(backend=backend, optimization_level=optimization_level)\n",
    "\n",
    "getCircuitViewer(qc_a, pm2, backend)\n",
    "\n",
    "# consider: estimated success rate/fidelity (summing over time) of a circuit/program\n",
    "# ESP method (not ideal, but practically used)\n",
    "# -> it is just one value and where the error is coming from is unclear\n",
    "# -> values tend to drift; more realistic noise errors not come up (not actually a measure)\n",
    "# -> many factors happen during the run time and are not so predictable at the time of writing a circuit\n",
    "# then... esp as cumulative...? or at that point? how do we get?\n",
    "\n",
    "# keyword: Automated Quantum Design and Debugging"
   ]
  }
 ],
 "metadata": {
  "kernelspec": {
   "display_name": "Python 3 (ipykernel)",
   "language": "python",
   "name": "python3"
  },
  "language_info": {
   "codemirror_mode": {
    "name": "ipython",
    "version": 3
   },
   "file_extension": ".py",
   "mimetype": "text/x-python",
   "name": "python",
   "nbconvert_exporter": "python",
   "pygments_lexer": "ipython3",
   "version": "3.12.3"
  }
 },
 "nbformat": 4,
 "nbformat_minor": 5
}
