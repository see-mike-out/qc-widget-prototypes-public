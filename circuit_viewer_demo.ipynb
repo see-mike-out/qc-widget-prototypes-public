{
 "cells": [
  {
   "cell_type": "code",
   "execution_count": 1,
   "id": "8499e00a-0c8b-4471-aa4f-e6790f4ef6a3",
   "metadata": {},
   "outputs": [],
   "source": [
    "# qiskit circuit & machine\n",
    "from qiskit import QuantumCircuit\n",
    "from qiskit.transpiler.preset_passmanagers import generate_preset_pass_manager\n",
    "import qiskit_aer\n",
    "from qiskit_ibm_runtime.fake_provider import FakeVigo\n",
    "\n",
    "# widget-related\n",
    "import anywidget\n",
    "import traitlets\n",
    "\n",
    "# widget function\n",
    "from circuit_data_prep import prepareData\n",
    "\n",
    "# host setting for dev mode\n",
    "_SS_ = \"http://localhost:5175/\""
   ]
  },
  {
   "cell_type": "code",
   "execution_count": 2,
   "id": "cf60ca74-7593-4fc6-8108-70e2305fd0cd",
   "metadata": {},
   "outputs": [],
   "source": [
    "class CircuitViewer(anywidget.AnyWidget):\n",
    "    _esm = _SS_ + \"index.js?anywidget\"\n",
    "    circ = traitlets.Unicode().tag(sync=True)\n",
    "    mode = traitlets.Unicode(\"view\").tag(sync=True)\n",
    "\n",
    "def getCircuitViewer(circuit, pass_manager, backend):\n",
    "    prep = prepareData(circuit, pass_manager, backend)\n",
    "    circuit_str = prep.toJSON()\n",
    "    return CircuitViewer(circ=circuit_str)"
   ]
  },
  {
   "cell_type": "code",
   "execution_count": 3,
   "id": "370bf8a7-d543-4f8e-aeae-290842088c63",
   "metadata": {},
   "outputs": [
    {
     "data": {
      "application/vnd.jupyter.widget-view+json": {
       "model_id": "fe7fa492ae364eb586effdd9f55ccf84",
       "version_major": 2,
       "version_minor": 1
      },
      "text/plain": [
       "CircuitViewer(circ='{\"original\": {\"layers\": [{\"operations\": [{\"gate\": \"ccx\", \"num_qubits\": 3, \"num_clbits\": 0,…"
      ]
     },
     "execution_count": 3,
     "metadata": {},
     "output_type": "execute_result"
    }
   ],
   "source": [
    "qc_a = QuantumCircuit(4, 4)\n",
    "qc_a.ccx(0, 1, 3)\n",
    "# qc_a.iswap(0, 1)\n",
    "qc_a.measure([0, 1, 2, 3], [0, 1, 2, 3])\n",
    "\n",
    "optimization_level = 1\n",
    "backend = qiskit_aer.AerSimulator.from_backend(FakeVigo())\n",
    "pm2 = generate_preset_pass_manager(backend=backend, optimization_level=optimization_level)\n",
    "\n",
    "getCircuitViewer(qc_a, pm2, backend)"
   ]
  }
 ],
 "metadata": {
  "kernelspec": {
   "display_name": "Python 3 (ipykernel)",
   "language": "python",
   "name": "python3"
  },
  "language_info": {
   "codemirror_mode": {
    "name": "ipython",
    "version": 3
   },
   "file_extension": ".py",
   "mimetype": "text/x-python",
   "name": "python",
   "nbconvert_exporter": "python",
   "pygments_lexer": "ipython3",
   "version": "3.12.3"
  }
 },
 "nbformat": 4,
 "nbformat_minor": 5
}
