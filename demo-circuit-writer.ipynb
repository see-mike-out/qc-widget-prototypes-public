{
 "cells": [
  {
   "cell_type": "markdown",
   "id": "89fb7e88-f069-4373-82b3-951155385104",
   "metadata": {},
   "source": [
    "# Interactive Circuit Writer Demo\n",
    "\n",
    "## Imports and setup"
   ]
  },
  {
   "cell_type": "code",
   "execution_count": 1,
   "id": "0811a9e4-80dd-4d3e-94bc-3ec2d5b640a3",
   "metadata": {},
   "outputs": [],
   "source": [
    "# qiskit circuit & machine\n",
    "from qiskit import QuantumCircuit\n",
    "from qiskit.transpiler.preset_passmanagers import generate_preset_pass_manager\n",
    "import qiskit_aer\n",
    "from qiskit_ibm_runtime.fake_provider import FakeVigo\n",
    "\n",
    "# widget-related\n",
    "import anywidget\n",
    "import traitlets\n",
    "\n",
    "# host setting for dev mode\n",
    "_SS_ = \"http://localhost:5175/\"\n",
    "\n",
    "from machine_data_prep import getMachineMetaInfo\n",
    "import json\n",
    "\n",
    "class CircuitWriter(anywidget.AnyWidget):\n",
    "    _esm = _SS_ + \"index.js?anywidget\"\n",
    "    machine = traitlets.Unicode().tag(sync=True)\n",
    "    circ_code = traitlets.Unicode().tag(sync=True)\n",
    "    mode = traitlets.Unicode(\"write\").tag(sync=True)\n",
    "\n",
    "def getCircuitWriter(backend=None):\n",
    "    machine_json = \"\"\n",
    "    if backend is not None:\n",
    "        machine = getMachineMetaInfo(backend)\n",
    "        machine_json = json.dumps(machine)\n",
    "    circ_code = \"\"\n",
    "    return CircuitWriter(circ_code=circ_code, machine=machine_json)"
   ]
  },
  {
   "cell_type": "markdown",
   "id": "cce7381d-7ea0-47e9-93ee-6fc90ffd7537",
   "metadata": {},
   "source": [
    "## Load a writer"
   ]
  },
  {
   "cell_type": "code",
   "execution_count": 2,
   "id": "defaacdb-fd3f-48e5-a496-2de185caaee8",
   "metadata": {},
   "outputs": [
    {
     "data": {
      "application/vnd.jupyter.widget-view+json": {
       "model_id": "d1641425f2cd440da5e910217e4f7f28",
       "version_major": 2,
       "version_minor": 1
      },
      "text/plain": [
       "CircuitWriter(machine='{\"name\": \"Aer\", \"is_simulator\": true}')"
      ]
     },
     "execution_count": 2,
     "metadata": {},
     "output_type": "execute_result"
    }
   ],
   "source": [
    "from qiskit_aer import AerSimulator\n",
    "writer = getCircuitWriter(backend=AerSimulator())\n",
    "writer"
   ]
  },
  {
   "cell_type": "markdown",
   "id": "ae4e625d-158e-4c0d-9177-448fb4b7108c",
   "metadata": {},
   "source": [
    "## Generate code"
   ]
  },
  {
   "cell_type": "code",
   "execution_count": 3,
   "id": "19b35c7e-4224-4006-85cb-882d07113437",
   "metadata": {},
   "outputs": [
    {
     "name": "stdout",
     "output_type": "stream",
     "text": [
      "from qiskit import QuantumCircuit\n",
      "from qiskit.visualization import plot_histogram\n",
      "from qiskit.transpiler.preset_passmanagers import generate_preset_pass_manager\n",
      "from qiskit_aer import AerSimulator\n",
      "from qiskit import transpile\n",
      "\n",
      "circuit = QuantumCircuit(15, 15)\n",
      "\n",
      "# Superposition\n",
      "circuit.h(0)\n",
      "circuit.h(1)\n",
      "circuit.h(2)\n",
      "circuit.h(3)\n",
      "circuit.h(4)\n",
      "circuit.h(5)\n",
      "circuit.h(6)\n",
      "circuit.h(7)\n",
      "circuit.h(8)\n",
      "circuit.h(9)\n",
      "circuit.h(10)\n",
      "circuit.h(11)\n",
      "circuit.h(12)\n",
      "circuit.h(13)\n",
      "circuit.h(14)\n",
      "\n",
      "# Measure\n",
      "circuit.measure_all()\n",
      "\n",
      "aer_sim = AerSimulator()\n",
      "\n",
      "transpiled = transpile(circuit, aer_sim)\n",
      "job = aer_sim.run(transpiled)\n",
      "\n",
      "counts = job.result().get_counts()\n",
      "plot_histogram(counts)\n",
      "\n",
      "\n"
     ]
    }
   ],
   "source": [
    "print(writer.circ_code)"
   ]
  }
 ],
 "metadata": {
  "kernelspec": {
   "display_name": "Python 3 (ipykernel)",
   "language": "python",
   "name": "python3"
  },
  "language_info": {
   "codemirror_mode": {
    "name": "ipython",
    "version": 3
   },
   "file_extension": ".py",
   "mimetype": "text/x-python",
   "name": "python",
   "nbconvert_exporter": "python",
   "pygments_lexer": "ipython3",
   "version": "3.12.3"
  }
 },
 "nbformat": 4,
 "nbformat_minor": 5
}
