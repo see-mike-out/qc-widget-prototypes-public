{
 "cells": [
  {
   "cell_type": "code",
   "execution_count": 20,
   "id": "3152f95f-e193-4f4e-87ab-0a3288060c94",
   "metadata": {},
   "outputs": [],
   "source": [
    "from qiskit import QuantumCircuit\n",
    "from qiskit.transpiler.preset_passmanagers import generate_preset_pass_manager\n",
    "import qiskit_aer\n",
    "from qiskit_ibm_runtime.fake_provider import FakeVigo\n",
    "from revkit import netlist, oracle_synth, truth_table\n",
    "import revkit.export.qiskit\n",
    "\n",
    "circuit = QuantumCircuit(3, 3)\n",
    "\n",
    "# Superposition\n",
    "circuit.h(0)\n",
    "circuit.h(1)\n",
    "\n",
    "# Boolean Truth Table Function Oracle\n",
    "tt_bool_1 = revkit.truth_table.from_expression(\"(ab)\")\n",
    "oracle_1 = revkit.oracle_synth(tt_bool_1)\n",
    "oracle_gate_1 = oracle_1.to_qiskit().to_gate()\n",
    "circuit.append(oracle_gate_1, [0, 1, 2])\n",
    "\n",
    "# Measure\n",
    "circuit.measure([1, 0], [0, 1])\n",
    "\n",
    "# backend and optimizer\n",
    "optimization_level = 1\n",
    "backend = qiskit_aer.AerSimulator.from_backend(FakeVigo())\n",
    "pass_manager = generate_preset_pass_manager(backend=backend, optimization_level=optimization_level)\n",
    "\n",
    "# pass manager and run\n",
    "transpiled = pass_manager.run(circuit)\n",
    "job = backend.run(circuit)"
   ]
  },
  {
   "cell_type": "code",
   "execution_count": null,
   "id": "f33ce472-14ee-4fcb-910e-dd567b3cb1f2",
   "metadata": {},
   "outputs": [],
   "source": []
  }
 ],
 "metadata": {
  "kernelspec": {
   "display_name": "Python 3 (ipykernel)",
   "language": "python",
   "name": "python3"
  },
  "language_info": {
   "codemirror_mode": {
    "name": "ipython",
    "version": 3
   },
   "file_extension": ".py",
   "mimetype": "text/x-python",
   "name": "python",
   "nbconvert_exporter": "python",
   "pygments_lexer": "ipython3",
   "version": "3.12.3"
  }
 },
 "nbformat": 4,
 "nbformat_minor": 5
}
