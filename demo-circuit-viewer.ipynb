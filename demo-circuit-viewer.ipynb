{
 "cells": [
  {
   "cell_type": "markdown",
   "id": "b3c0a2eb-4d3e-4685-b8b7-b09dc9793eb2",
   "metadata": {},
   "source": [
    "# Interactive Circuit Viewer Demo\n",
    "\n",
    "Note: the demo will not appear if you are looking at this on github because the widgets are dynamically created.\n",
    "\n",
    "## Imports and setup"
   ]
  },
  {
   "cell_type": "code",
   "execution_count": 1,
   "id": "da930d8a-b653-4a07-a308-994f12d4e421",
   "metadata": {},
   "outputs": [],
   "source": [
    "# widget-related\n",
    "import anywidget\n",
    "import traitlets\n",
    "\n",
    "# host setting for dev mode\n",
    "_SS_ = \"http://localhost:5175/\"\n",
    "\n",
    "# data prep\n",
    "from qiskit.transpiler.preset_passmanagers import generate_preset_pass_manager\n",
    "from circuit_data_prep import prepareData\n",
    "\n",
    "class CircuitViewer(anywidget.AnyWidget):\n",
    "    _esm = _SS_ + \"index.js?anywidget\"\n",
    "    circ = traitlets.Unicode().tag(sync=True)\n",
    "    mode = traitlets.Unicode(\"view\").tag(sync=True)\n",
    "\n",
    "def getCircuitViewer(circuit, backend, optimization_level):\n",
    "    pass_manager = generate_preset_pass_manager(backend=backend, optimization_level=optimization_level, seed_transpiler=1)\n",
    "    prep = prepareData(circuit, pass_manager, backend)\n",
    "    circuit_str = prep.toJSON()\n",
    "    return (CircuitViewer(circ=circuit_str), pass_manager, prep)"
   ]
  },
  {
   "cell_type": "markdown",
   "id": "6c232fec-01e8-4065-aef3-0b99743e93e7",
   "metadata": {},
   "source": [
    "## Write a circuit and set a backend"
   ]
  },
  {
   "cell_type": "code",
   "execution_count": 2,
   "id": "20128020-75a9-414d-afd0-4409891f8a20",
   "metadata": {},
   "outputs": [],
   "source": [
    "from qiskit import QuantumCircuit\n",
    "import qiskit_aer\n",
    "from qiskit_ibm_runtime.fake_provider import FakeVigo\n",
    "from qiskit.circuit.library import QFT\n",
    "\n",
    "qft = QFT(5).to_gate()\n",
    "\n",
    "qcb = QuantumCircuit(5,5)\n",
    "qcb.h(0)\n",
    "qcb.h(1)\n",
    "qcb.h(2)\n",
    "qcb.h(3)\n",
    "qcb.h(4)\n",
    "qcb.append(qft, [0, 1, 2, 3, 4])\n",
    "qcb.measure_all()\n",
    "\n",
    "optimization_level = 1\n",
    "backend = qiskit_aer.AerSimulator.from_backend(FakeVigo())"
   ]
  },
  {
   "cell_type": "markdown",
   "id": "2c5673aa-c12b-414a-a7ab-6b8f28c18b25",
   "metadata": {},
   "source": [
    "## Load the viewer"
   ]
  },
  {
   "cell_type": "code",
   "execution_count": 3,
   "id": "b15b8de5-dd8f-4db0-8566-8ceaaeadd10b",
   "metadata": {},
   "outputs": [
    {
     "data": {
      "application/vnd.jupyter.widget-view+json": {
       "model_id": "a13c76cbe9be4126a4973e1b7004cb40",
       "version_major": 2,
       "version_minor": 1
      },
      "text/plain": [
       "CircuitViewer(circ='{\"original\": {\"layers\": [{\"operations\": [{\"gate\": \"h\", \"num_qubits\": 1, \"num_clbits\": 0, \"…"
      ]
     },
     "execution_count": 3,
     "metadata": {},
     "output_type": "execute_result"
    }
   ],
   "source": [
    "(viewer, pm, prep_data) = getCircuitViewer(qcb, backend, optimization_level)\n",
    "viewer"
   ]
  }
 ],
 "metadata": {
  "kernelspec": {
   "display_name": "Python 3 (ipykernel)",
   "language": "python",
   "name": "python3"
  },
  "language_info": {
   "codemirror_mode": {
    "name": "ipython",
    "version": 3
   },
   "file_extension": ".py",
   "mimetype": "text/x-python",
   "name": "python",
   "nbconvert_exporter": "python",
   "pygments_lexer": "ipython3",
   "version": "3.12.3"
  }
 },
 "nbformat": 4,
 "nbformat_minor": 5
}
